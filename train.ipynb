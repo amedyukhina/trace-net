{
 "cells": [
  {
   "cell_type": "code",
   "execution_count": null,
   "id": "d74d342d-9d53-4270-bfc6-8a6ecafc607b",
   "metadata": {},
   "outputs": [],
   "source": [
    "import argparse\n",
    "import json\n",
    "import os\n",
    "from pathlib import Path\n",
    "\n",
    "import albumentations as A\n",
    "import wandb\n",
    "from torch.utils.data import DataLoader\n",
    "\n",
    "from tracenet import get_train_transform, get_valid_transform, collate_fn\n",
    "from tracenet.datasets import FilamentDetection\n",
    "from tracenet.models.criterion import Criterion\n",
    "from tracenet.models.detr import build_model\n",
    "from tracenet.models.matcher import HungarianMatcher\n",
    "from tracenet.utils import get_model_name\n",
    "from tracenet.utils.train import train"
   ]
  },
  {
   "cell_type": "markdown",
   "id": "25534d93-7eb5-477c-a19d-3e70b40acc0b",
   "metadata": {},
   "source": [
    "### Specify parameters"
   ]
  },
  {
   "cell_type": "code",
   "execution_count": null,
   "id": "f542312e-a6f6-42f8-a3a0-fb700424c441",
   "metadata": {},
   "outputs": [],
   "source": [
    "data_dir = 'mtdata'\n",
    "model_path = rf'models/mt/checkpoint.pth'\n",
    "maxsize = 630"
   ]
  },
  {
   "cell_type": "code",
   "execution_count": null,
   "id": "4fc1549e-3613-4e26-beb1-8e20458ab955",
   "metadata": {},
   "outputs": [],
   "source": [
    "train_dir = 'train'\n",
    "val_dir = 'val'\n",
    "\n",
    "wandb_project = 'Test'\n",
    "log_progress = False"
   ]
  },
  {
   "cell_type": "code",
   "execution_count": null,
   "id": "9ff1f8ee-540f-4845-b54d-1a78a35cba0f",
   "metadata": {},
   "outputs": [],
   "source": [
    "config = dict(\n",
    "    epochs=20,\n",
    "    batch_size=2,\n",
    "    lr=0.0001,\n",
    "    weight_decay=0.0005,\n",
    "    factor=0.1,\n",
    "    patience=2,\n",
    "    model_path=model_path,\n",
    "    log_progress=log_progress,\n",
    "    wandb_project=wandb_project,\n",
    "    data_dir=data_dir,\n",
    "    train_dirname=train_dir,\n",
    "    val_dirname=val_dir,\n",
    "    bbox_loss_coef=5, \n",
    "    maxsize=maxsize,\n",
    "    n_points=10\n",
    "    )\n",
    "config"
   ]
  },
  {
   "cell_type": "markdown",
   "id": "2f8a5d28-2d3e-48bd-883e-9c62afd441b2",
   "metadata": {},
   "source": [
    "### Initialize wandb project"
   ]
  },
  {
   "cell_type": "code",
   "execution_count": null,
   "id": "f8c46bb2-d2c0-4ba5-bf58-1ac3bde8d907",
   "metadata": {},
   "outputs": [],
   "source": [
    "config = argparse.Namespace(**config)\n",
    "if config.log_progress:\n",
    "    with open('/home/amedyukh/.wandb_api_key') as f:\n",
    "        key = f.read()\n",
    "    os.environ['WANDB_API_KEY'] = key\n",
    "else:\n",
    "    os.environ['WANDB_MODE'] = 'offline'\n",
    "\n",
    "wandb.init(project=config.wandb_project, config=vars(config))\n",
    "\n",
    "# Update model path\n",
    "config.model_path = os.path.join(config.model_path, get_model_name(config.log_progress))\n",
    "\n",
    "# Save training parameters\n",
    "os.makedirs(config.model_path, exist_ok=True)\n",
    "with open(os.path.join(config.model_path, 'config.json'), 'w') as f:\n",
    "    json.dump(vars(config), f, indent=4)\n",
    "          \n"
   ]
  },
  {
   "cell_type": "markdown",
   "id": "55ca292b-0e54-4b8f-bebb-f06c1837acce",
   "metadata": {},
   "source": [
    "### Setup data loaders"
   ]
  },
  {
   "cell_type": "code",
   "execution_count": null,
   "id": "733c1820-9b49-4848-974b-28d1b1a0714e",
   "metadata": {},
   "outputs": [],
   "source": [
    "path = Path(data_dir)\n",
    "\n",
    "ds = []\n",
    "for dset, transform in zip([train_dir, val_dir], [get_train_transform, get_valid_transform]): \n",
    "    files = os.listdir(path / dset / 'img')\n",
    "    files.sort()\n",
    "    ds.append(\n",
    "        FilamentDetection(\n",
    "            [path / dset / 'img' / fn for fn in files],\n",
    "            [path / dset / 'gt' / fn.replace('.tif', '.csv') for fn in files],\n",
    "            transforms=transform(keypoint_params=A.KeypointParams(format='xy', \n",
    "                                                                  label_fields=['point_labels'], \n",
    "                                                                  remove_invisible=False, \n",
    "                                                                  angle_in_degrees=True)),\n",
    "            maxsize=maxsize, n_points=config.n_points\n",
    "        )\n",
    "    )\n",
    "ds_train, ds_val = ds\n",
    "\n",
    "dl_train = DataLoader(ds_train, shuffle=True, collate_fn=collate_fn,\n",
    "                      batch_size=config.batch_size, num_workers=config.batch_size)\n",
    "dl_val = DataLoader(ds_val, shuffle=False, collate_fn=collate_fn,\n",
    "                    batch_size=config.batch_size, num_workers=config.batch_size)"
   ]
  },
  {
   "cell_type": "markdown",
   "id": "62a3c228-19dc-4117-b2f8-c3362e9f9fdf",
   "metadata": {},
   "source": [
    "### Setup model, loss and metric"
   ]
  },
  {
   "cell_type": "code",
   "execution_count": null,
   "id": "61ad5523-3dcf-4283-ae21-8250e771b9e6",
   "metadata": {},
   "outputs": [],
   "source": [
    "model = build_model(n_classes=1, n_points=config.n_points, pretrained=True)\n",
    "loss_function = Criterion(1, HungarianMatcher(), losses=['labels', 'boxes', 'cardinality'])"
   ]
  },
  {
   "cell_type": "markdown",
   "id": "4b923de7-ac6b-46d8-bc62-a4e15d903c7b",
   "metadata": {},
   "source": [
    "### Train"
   ]
  },
  {
   "cell_type": "code",
   "execution_count": null,
   "id": "e9263e36-bf25-4a99-8064-58b08a8d957b",
   "metadata": {},
   "outputs": [],
   "source": [
    "%%time\n",
    "train(dl_train, dl_val, model, loss_function, config=config, log_tensorboard=True)"
   ]
  },
  {
   "cell_type": "code",
   "execution_count": null,
   "id": "ea31c8b8-7ea7-49b3-ad87-dc9f86352395",
   "metadata": {},
   "outputs": [],
   "source": [
    "wandb.finish()"
   ]
  },
  {
   "cell_type": "code",
   "execution_count": null,
   "id": "46a46059-be7d-44a8-b53b-61e83a2fde1b",
   "metadata": {},
   "outputs": [],
   "source": []
  }
 ],
 "metadata": {
  "kernelspec": {
   "display_name": "Python [conda env:am_pytorch]",
   "language": "python",
   "name": "conda-env-am_pytorch-py"
  },
  "language_info": {
   "codemirror_mode": {
    "name": "ipython",
    "version": 3
   },
   "file_extension": ".py",
   "mimetype": "text/x-python",
   "name": "python",
   "nbconvert_exporter": "python",
   "pygments_lexer": "ipython3",
   "version": "3.9.7"
  }
 },
 "nbformat": 4,
 "nbformat_minor": 5
}
