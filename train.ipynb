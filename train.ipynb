{
 "cells": [
  {
   "cell_type": "code",
   "execution_count": null,
   "id": "d74d342d-9d53-4270-bfc6-8a6ecafc607b",
   "metadata": {},
   "outputs": [],
   "source": [
    "import argparse\n",
    "import json\n",
    "import os\n",
    "\n",
    "import wandb\n",
    "\n",
    "from tracenet.utils.trainer import Trainer"
   ]
  },
  {
   "cell_type": "markdown",
   "id": "25534d93-7eb5-477c-a19d-3e70b40acc0b",
   "metadata": {},
   "source": [
    "### Specify parameters"
   ]
  },
  {
   "cell_type": "code",
   "execution_count": null,
   "id": "f542312e-a6f6-42f8-a3a0-fb700424c441",
   "metadata": {},
   "outputs": [],
   "source": [
    "model = 'tracenet'"
   ]
  },
  {
   "cell_type": "code",
   "execution_count": null,
   "id": "9ff1f8ee-540f-4845-b54d-1a78a35cba0f",
   "metadata": {},
   "outputs": [],
   "source": [
    "# config = dict(\n",
    "#     model=model,\n",
    "#     data_dir='mtdata',\n",
    "#     epochs=5,\n",
    "#     batch_size=4,\n",
    "#     model_path='model_test',\n",
    "#     log_tensorboard=True,\n",
    "#     maxsize=640,\n",
    "#     n_channels=(16, 32, 64, 128)\n",
    "#     )\n",
    "\n",
    "config = dict(\n",
    "    model=model,\n",
    "    data_dir='mtdata_real',\n",
    "    epochs=5,\n",
    "    batch_size=4,\n",
    "    model_path='model_test',\n",
    "    log_tensorboard=True,\n",
    "    maxsize=384,\n",
    "    n_channels=(16, 32, 64, 128)\n",
    "    )\n",
    "config"
   ]
  },
  {
   "cell_type": "markdown",
   "id": "55ca292b-0e54-4b8f-bebb-f06c1837acce",
   "metadata": {},
   "source": [
    "### Set up trainer"
   ]
  },
  {
   "cell_type": "code",
   "execution_count": null,
   "id": "09c53e61-38e5-4f36-abb0-2cde5cc800b0",
   "metadata": {},
   "outputs": [],
   "source": [
    "trainer = Trainer(**config)"
   ]
  },
  {
   "cell_type": "code",
   "execution_count": null,
   "id": "a5a3dcef-f716-4b4d-9578-0fd21ba36692",
   "metadata": {},
   "outputs": [],
   "source": [
    "trainer.train()"
   ]
  },
  {
   "cell_type": "code",
   "execution_count": null,
   "id": "0f59951c-4f49-41cd-9fd8-7a86cdde80fc",
   "metadata": {},
   "outputs": [],
   "source": []
  }
 ],
 "metadata": {
  "kernelspec": {
   "display_name": "Python [conda env:am_pytorch]",
   "language": "python",
   "name": "conda-env-am_pytorch-py"
  },
  "language_info": {
   "codemirror_mode": {
    "name": "ipython",
    "version": 3
   },
   "file_extension": ".py",
   "mimetype": "text/x-python",
   "name": "python",
   "nbconvert_exporter": "python",
   "pygments_lexer": "ipython3",
   "version": "3.9.7"
  }
 },
 "nbformat": 4,
 "nbformat_minor": 5
}
