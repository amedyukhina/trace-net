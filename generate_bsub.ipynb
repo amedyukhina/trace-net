{
 "cells": [
  {
   "cell_type": "code",
   "execution_count": 1,
   "id": "95fd9b95-8368-4574-8449-466c35f266df",
   "metadata": {},
   "outputs": [],
   "source": [
    "import os"
   ]
  },
  {
   "cell_type": "code",
   "execution_count": 2,
   "id": "4054e551-04aa-4c65-bda7-0328443ac0dc",
   "metadata": {},
   "outputs": [],
   "source": [
    "path = '/research/sharedresources/cbi/data_exchange/hangrp/Development/mt_detection/'\n",
    "api_key_file = '/home/amedyukh/.wandb_api_key'\n",
    "\n",
    "epochs = 5000\n",
    "patience = 100\n",
    "bs = 4\n",
    "lr = 0.00001\n",
    "symmetric = True\n",
    "random_flip = True"
   ]
  },
  {
   "cell_type": "code",
   "execution_count": 3,
   "id": "9a725915-5f81-4608-a775-f0f29b7bec32",
   "metadata": {},
   "outputs": [],
   "source": [
    "data_dir = path + 'data_synth/lines_2D_400_high_contrast2'\n",
    "img_dir = 'img'\n",
    "gt_dir = 'csv'\n",
    "mean_std = (21.38, 23.5)\n",
    "model_dir = './models_tracenet_01_lines_2p'\n",
    "wandb_project = 'Tracenet_01_lines_2p'\n",
    "pretrained_model_path = [None]\n",
    "n_points = 2\n",
    "\n",
    "\n",
    "# data_dir = path + 'data_synth/lines_2D_400_high_contrast2'\n",
    "# img_dir = 'img'\n",
    "# gt_dir = 'csv'\n",
    "# mean_std = (21.38, 23.5)\n",
    "# model_dir = './models_tracenet_02_lines_3p'\n",
    "# wandb_project = 'Tracenet_02_lines_3p'\n",
    "# pretrained_model_path = [None, './models_tracenet_01_lines_2p/dark-haze-6/best_model.pth']\n",
    "# n_points = 3\n",
    "\n",
    "\n",
    "# data_dir = path + 'data_synth/filaments_2D_high_contrast'\n",
    "# img_dir = 'img'\n",
    "# gt_dir = 'csv'\n",
    "# mean_std = (21.42, 20.46)\n",
    "# model_dir = './models_tracenet_03_filaments_3p'\n",
    "# wandb_project = 'Tracenet_03_filements_3p'\n",
    "# pretrained_model_path = [None, './models_tracenet_02_lines_3p/dark-haze-6/best_model.pth']\n",
    "# n_points = 3\n",
    "\n",
    "\n",
    "# data_dir = path + 'data_synth/filaments_2D_high_contrast'\n",
    "# img_dir = 'img'\n",
    "# gt_dir = 'csv'\n",
    "# mean_std = (21.42, 20.46)\n",
    "# model_dir = './models_tracenet_04_filaments_5p'\n",
    "# wandb_project = 'Tracenet_04_filements_5p'\n",
    "# pretrained_model_path = [None, './models_tracenet_03_filaments_3p/dark-haze-6/best_model.pth']\n",
    "# n_points = 5\n",
    "\n",
    "\n",
    "# data_dir = path + 'data_synth/filaments_2D_high_contrast'\n",
    "# img_dir = 'img'\n",
    "# gt_dir = 'csv'\n",
    "# mean_std = (21.42, 20.46)\n",
    "# model_dir = './models_tracenet_05_filaments_7p'\n",
    "# wandb_project = 'Tracenet_05_filements_7p'\n",
    "# pretrained_model_path = [None, './models_tracenet_04_filaments_5p/dark-haze-6/best_model.pth']\n",
    "# n_points = 7\n",
    "\n",
    "\n",
    "# data_dir = path + 'data_synth/filament_2D_low_contrast'\n",
    "# img_dir = 'img'\n",
    "# gt_dir = 'csv'\n",
    "# mean_std = (53.9, 32.33)\n",
    "\n",
    "\n",
    "# data_dir = path + 'data/training_data'\n",
    "# img_dir = 'img'\n",
    "# gt_dir = 'traces'\n",
    "# mean_std = (595.72, 1159.925)\n",
    "\n",
    "# data_dir = path + 'data/training_data'\n",
    "# img_dir = 'img_synth'\n",
    "# mean_std = (57.3, 32.7)\n",
    "# gt_dir = 'traces'"
   ]
  },
  {
   "cell_type": "code",
   "execution_count": 4,
   "id": "d8ca3478-5877-4b45-bb3b-c33e4eded546",
   "metadata": {},
   "outputs": [],
   "source": [
    "weight_trace = 0\n",
    "weight_ends = 10\n",
    "weight_spacing = 0\n",
    "weight_str = 0"
   ]
  },
  {
   "cell_type": "code",
   "execution_count": 5,
   "id": "3367de77-cafd-4974-bb35-a2d4ce085f9f",
   "metadata": {},
   "outputs": [
    {
     "name": "stdout",
     "output_type": "stream",
     "text": [
      "bsub -P TraceNet -J Train -q gpu -gpu \"num=1:mode=exclusive_process\"  -R \"rusage[mem=70G]\"  \"export PATH='/research/sharedresources/cbi/public/conda_envs/am_pytorch/bin/:$PATH';  cd /home/amedyukh/codes/trace-net; python train.py -d /research/sharedresources/cbi/data_exchange/hangrp/Development/mt_detection/data_synth/lines_2D_400_high_contrast2 -mp ./models_tracenet_01_lines_2p --img-dir img --gt-dir csv --mean-std 21.38,23.5  --pretrained-model-path None  --wandb-project Tracenet_01_lines_2p -wapi /home/amedyukh/.wandb_api_key -log   -bs 4 -lr 1e-05 --epochs 5000 --patience 100  --n-points 2  --symmetric   --random-flip -wtt 0 -wte 10 -wts 0 -wtst 0  \" \n",
      "\n"
     ]
    }
   ],
   "source": [
    "for pretr_model in pretrained_model_path:\n",
    "    mean, std = mean_std\n",
    "    symm = ' --symmetric ' if symmetric else ' '\n",
    "    rfl = ' --random-flip' if random_flip else ' '\n",
    "\n",
    "    command = rf'bsub -P TraceNet -J Train -q gpu -gpu \"num=1:mode=exclusive_process\" '\\\n",
    "              rf' -R \"rusage[mem=70G]\" '\\\n",
    "              rf' \"export PATH=\"\"/research/sharedresources/cbi/public/conda_envs/am_pytorch/bin/:$PATH\"\"; '\\\n",
    "              rf' cd /home/amedyukh/codes/trace-net; python train.py'\\\n",
    "              rf' -d {data_dir} -mp {model_dir} --img-dir {img_dir} --gt-dir {gt_dir} --mean-std {mean},{std} '\\\n",
    "              rf' --pretrained-model-path {pretr_model} '\\\n",
    "              rf' --wandb-project {wandb_project} -wapi {api_key_file} -log  '\\\n",
    "              rf' -bs {bs} -lr {lr} --epochs {epochs} --patience {patience} '\\\n",
    "              rf' --n-points {n_points} {symm} {rfl}'\\\n",
    "              rf' -wtt {weight_trace} -wte {weight_ends} -wts {weight_spacing} -wtst {weight_str} '\\\n",
    "              rf' \"'\n",
    "\n",
    "    print(command.replace('\"\"', '\\''), '\\n')\n",
    "\n"
   ]
  },
  {
   "cell_type": "code",
   "execution_count": null,
   "id": "bc3ab2c0-add3-4806-bd83-8e5d7ca025de",
   "metadata": {},
   "outputs": [],
   "source": []
  },
  {
   "cell_type": "code",
   "execution_count": null,
   "id": "b1c97609-fc57-4fe7-9d40-727d398db4df",
   "metadata": {},
   "outputs": [],
   "source": []
  }
 ],
 "metadata": {
  "kernelspec": {
   "display_name": "Python [conda env:am_pytorch]",
   "language": "python",
   "name": "conda-env-am_pytorch-py"
  },
  "language_info": {
   "codemirror_mode": {
    "name": "ipython",
    "version": 3
   },
   "file_extension": ".py",
   "mimetype": "text/x-python",
   "name": "python",
   "nbconvert_exporter": "python",
   "pygments_lexer": "ipython3",
   "version": "3.9.7"
  }
 },
 "nbformat": 4,
 "nbformat_minor": 5
}
