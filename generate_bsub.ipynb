{
 "cells": [
  {
   "cell_type": "code",
   "execution_count": 1,
   "id": "95fd9b95-8368-4574-8449-466c35f266df",
   "metadata": {},
   "outputs": [],
   "source": [
    "import os"
   ]
  },
  {
   "cell_type": "code",
   "execution_count": 2,
   "id": "4054e551-04aa-4c65-bda7-0328443ac0dc",
   "metadata": {},
   "outputs": [],
   "source": [
    "# data_dir = '/research/sharedresources/cbi/data_exchange/hangrp/Development/mt_detection/data_synth/lines_2D_400'\n",
    "# img_dir = 'img'\n",
    "# mean_std = (51.23, 31.55)\n",
    "\n",
    "# data_dir = '/research/sharedresources/cbi/data_exchange/hangrp/Development/mt_detection/data_synth/lines_2D_400_high_contrast'\n",
    "# img_dir = 'img'\n",
    "# gt_dir = 'csv'\n",
    "# mean_std = (21.38, 23.5)\n",
    "\n",
    "# data_dir = '/research/sharedresources/cbi/data_exchange/hangrp/Development/mt_detection/data_synth/lines_2D_400_high_contrast2'\n",
    "# img_dir = 'img'\n",
    "# gt_dir = 'csv'\n",
    "# mean_std = (21.38, 23.5)\n",
    "\n",
    "# data_dir = '/research/sharedresources/cbi/data_exchange/hangrp/Development/mt_detection/data/training_data'\n",
    "# img_dir = 'img_synth'\n",
    "# mean_std = (61.66, 36.41)\n",
    "# gt_dir = 'csv'\n",
    "\n",
    "# data_dir = '/research/sharedresources/cbi/data_exchange/hangrp/Development/mt_detection/data/training_data'\n",
    "# img_dir = 'img'\n",
    "# gt_dir = 'traces'\n",
    "# mean_std = (595.72, 1159.925)\n",
    "\n",
    "# data_dir = '/research/sharedresources/cbi/data_exchange/hangrp/Development/mt_detection/data/training_data'\n",
    "# img_dir = 'img_synth'\n",
    "# mean_std = (57.3, 32.7)\n",
    "# gt_dir = 'traces'\n",
    "\n",
    "data_dir = '/research/sharedresources/cbi/data_exchange/hangrp/Development/mt_detection/data_synth/filaments2_2D_high_contrast'\n",
    "img_dir = 'img'\n",
    "gt_dir = 'csv'\n",
    "mean_std = (21.8, 20.75)\n",
    "\n",
    "\n",
    "# data_dir = '/research/sharedresources/cbi/data_exchange/hangrp/Development/mt_detection/data_synth/filaments_2D_low_contrast'\n",
    "# img_dir = 'img'\n",
    "# gt_dir = 'csv'\n",
    "# mean_std = (54.39, 32.76)\n",
    "\n",
    "model_dir = './models_tracenet_new'\n",
    "api_key_file = '/home/amedyukh/.wandb_api_key'\n",
    "# wandb_project = 'Backbone_test_semisynth'\n",
    "wandb_project = 'Tracenet_Loss_new'\n",
    "pretrained_model_path = './models_backbone_pretrained/skilled-glade-6/best_model.pth'\n",
    "\n",
    "num_points = [7]\n",
    "\n",
    "epochs = 5000\n",
    "patience = 100\n",
    "bs = 4\n",
    "lr = 0.00001\n",
    "symmetric = True\n",
    "random_flip = True\n",
    "\n",
    "weight_trace = 2\n",
    "weight_ends = 5\n",
    "weight_spacing = 0.5\n",
    "weight_str = 0.005"
   ]
  },
  {
   "cell_type": "code",
   "execution_count": 3,
   "id": "3367de77-cafd-4974-bb35-a2d4ce085f9f",
   "metadata": {},
   "outputs": [
    {
     "name": "stdout",
     "output_type": "stream",
     "text": [
      "bsub -P TraceNet -J LossTest -q gpu -gpu \"num=1:mode=exclusive_process\"  -R \"rusage[mem=70G]\"  \"export PATH='/research/sharedresources/cbi/public/conda_envs/am_pytorch/bin/:$PATH';  cd /home/amedyukh/codes/trace-net; python train.py -d /research/sharedresources/cbi/data_exchange/hangrp/Development/mt_detection/data_synth/filaments2_2D_high_contrast -mp ./models_tracenet_new --img-dir img --gt-dir csv --mean-std 21.8,20.75  --pretrained-model-path ./models_backbone_pretrained/skilled-glade-6/best_model.pth  --wandb-project Tracenet_Loss_new -wapi /home/amedyukh/.wandb_api_key -log   -bs 4 -lr 1e-05 --epochs 5000 --patience 100  --n-points 7  --symmetric   --random-flip -wtt 2 -wte 5 -wts 0.5 -wtst 0.005  \" \n",
      "\n"
     ]
    }
   ],
   "source": [
    "for n_points in num_points:\n",
    "    mean, std = mean_std\n",
    "    symm = ' --symmetric ' if symmetric else ' '\n",
    "    rfl = ' --random-flip' if random_flip else ' '\n",
    "\n",
    "    command = rf'bsub -P TraceNet -J LossTest -q gpu -gpu \"num=1:mode=exclusive_process\" '\\\n",
    "              rf' -R \"rusage[mem=70G]\" '\\\n",
    "              rf' \"export PATH=\"\"/research/sharedresources/cbi/public/conda_envs/am_pytorch/bin/:$PATH\"\"; '\\\n",
    "              rf' cd /home/amedyukh/codes/trace-net; python train.py'\\\n",
    "              rf' -d {data_dir} -mp {model_dir} --img-dir {img_dir} --gt-dir {gt_dir} --mean-std {mean},{std} '\\\n",
    "              rf' --pretrained-model-path {pretrained_model_path} '\\\n",
    "              rf' --wandb-project {wandb_project} -wapi {api_key_file} -log  '\\\n",
    "              rf' -bs {bs} -lr {lr} --epochs {epochs} --patience {patience} '\\\n",
    "              rf' --n-points {n_points} {symm} {rfl}'\\\n",
    "              rf' -wtt {weight_trace} -wte {weight_ends} -wts {weight_spacing} -wtst {weight_str} '\\\n",
    "              rf' \"'\n",
    "\n",
    "    print(command.replace('\"\"', '\\''), '\\n')\n",
    "\n"
   ]
  },
  {
   "cell_type": "code",
   "execution_count": null,
   "id": "bc3ab2c0-add3-4806-bd83-8e5d7ca025de",
   "metadata": {},
   "outputs": [],
   "source": []
  },
  {
   "cell_type": "code",
   "execution_count": null,
   "id": "b1c97609-fc57-4fe7-9d40-727d398db4df",
   "metadata": {},
   "outputs": [],
   "source": []
  }
 ],
 "metadata": {
  "kernelspec": {
   "display_name": "Python [conda env:am_pytorch]",
   "language": "python",
   "name": "conda-env-am_pytorch-py"
  },
  "language_info": {
   "codemirror_mode": {
    "name": "ipython",
    "version": 3
   },
   "file_extension": ".py",
   "mimetype": "text/x-python",
   "name": "python",
   "nbconvert_exporter": "python",
   "pygments_lexer": "ipython3",
   "version": "3.9.7"
  }
 },
 "nbformat": 4,
 "nbformat_minor": 5
}
