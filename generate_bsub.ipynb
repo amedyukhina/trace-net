{
 "cells": [
  {
   "cell_type": "code",
   "execution_count": 1,
   "id": "95fd9b95-8368-4574-8449-466c35f266df",
   "metadata": {},
   "outputs": [],
   "source": [
    "import os\n",
    "import numpy as np"
   ]
  },
  {
   "cell_type": "code",
   "execution_count": 2,
   "id": "4054e551-04aa-4c65-bda7-0328443ac0dc",
   "metadata": {},
   "outputs": [],
   "source": [
    "path = '/research/sharedresources/cbi/data_exchange/hangrp/Development/mt_detection/'\n",
    "api_key_file = '/home/amedyukh/.wandb_api_key'\n",
    "seed = 42\n",
    "\n",
    "epochs = 5000\n",
    "patience = 100\n",
    "bs = 4\n",
    "lr = 0.00001\n",
    "bezier = True\n",
    "n_points = 15\n",
    "pretrained = True\n",
    "weight_spacing = 0\n",
    "lim_strt = 5"
   ]
  },
  {
   "cell_type": "code",
   "execution_count": 3,
   "id": "9a725915-5f81-4608-a775-f0f29b7bec32",
   "metadata": {},
   "outputs": [],
   "source": [
    "# data_dir = path + 'data_synth/random_snr7'\n",
    "# img_dir = 'img'\n",
    "# gt_dir = 'csv'\n",
    "# model_dir = './models_tracenet_paper/random_snr7'\n",
    "# wandb_project = 'Tracenet_Paper_random_snr7'\n",
    "# pretrained_model_path = [None]\n",
    "# percentiles = (1, 100)\n",
    "# symmetric = True\n",
    "# random_flip = True\n",
    "\n",
    "# data_dir = path + 'data_synth/random_snr2'\n",
    "# img_dir = 'img'\n",
    "# gt_dir = 'csv'\n",
    "# model_dir = './models_tracenet_paper/random_snr2'\n",
    "# wandb_project = 'Tracenet_Paper_random_snr2'\n",
    "# pretrained_model_path = [None]\n",
    "# percentiles = (1, 100)\n",
    "# symmetric = True\n",
    "# random_flip = True\n",
    "\n",
    "data_dir = path + 'data_synth/random_snr1'\n",
    "img_dir = 'img'\n",
    "gt_dir = 'csv'\n",
    "model_dir = './models_tracenet_paper/random_snr1'\n",
    "wandb_project = 'Tracenet_Paper_random_snr1'\n",
    "pretrained_model_path = [None]\n",
    "percentiles = (1, 100)\n",
    "symmetric = True\n",
    "random_flip = True\n",
    "\n",
    "\n",
    "# data_dir = path + 'data_synth/aster_with_spindle_high_contrast'\n",
    "# img_dir = 'img'\n",
    "# gt_dir = 'csv'\n",
    "# model_dir = './models/tracenet_02_synth_with_spindle_high_contrast'\n",
    "# wandb_project = 'Tracenet_Aster_02_synth_with_spindle_high_contrast'\n",
    "# pretrained_model_path = [None]\n",
    "\n",
    "\n",
    "# data_dir = path + 'data_synth/aster_with_spindle_low_contrast'\n",
    "# img_dir = 'img'\n",
    "# gt_dir = 'csv'\n",
    "# model_dir = './models/tracenet_03_synth_with_spindle_low_contrast'\n",
    "# wandb_project = 'Tracenet_Aster_03_synth_with_spindle_low_contrast'\n",
    "# pretrained_model_path = [None, './models/tracenet_01_synth_no_spindle//best_model.pth']\n",
    "\n",
    "\n",
    "# data_dir = path + 'data/training_data'\n",
    "# img_dir = 'img'\n",
    "# gt_dir = 'traces'\n",
    "# model_dir = './models/tracenet_04_real'\n",
    "# wandb_project = 'Tracenet_Aster_04_real'\n",
    "# pretrained_model_path = [None, '']\n",
    "# patience = 1000\n"
   ]
  },
  {
   "cell_type": "code",
   "execution_count": 4,
   "id": "d8ca3478-5877-4b45-bb3b-c33e4eded546",
   "metadata": {},
   "outputs": [],
   "source": [
    "weight_trace = [10, 20]\n",
    "weight_ends = [10]\n",
    "weight_str = [0]\n",
    "gammas = [0.99]"
   ]
  },
  {
   "cell_type": "code",
   "execution_count": 5,
   "id": "04476773-97cb-48e4-a59c-d6ba85a4f5d2",
   "metadata": {},
   "outputs": [
    {
     "data": {
      "text/plain": [
       "array([ 787846414, 2563451924, 9019323606])"
      ]
     },
     "execution_count": 5,
     "metadata": {},
     "output_type": "execute_result"
    }
   ],
   "source": [
    "np.random.seed(seed)\n",
    "seeds = np.random.randint(0, 10**10, 3)\n",
    "seeds"
   ]
  },
  {
   "cell_type": "code",
   "execution_count": 6,
   "id": "3367de77-cafd-4974-bb35-a2d4ce085f9f",
   "metadata": {},
   "outputs": [
    {
     "name": "stdout",
     "output_type": "stream",
     "text": [
      "bsub -P TraceNet -J Train -q gpu -gpu \"num=1:mode=exclusive_process\"  -R \"rusage[mem=100G]\"  \"export PATH='/research/sharedresources/cbi/public/conda_envs/am_pytorch/bin/:$PATH';  cd /home/amedyukh/codes/trace-net; python train.py -d /research/sharedresources/cbi/data_exchange/hangrp/Development/mt_detection/data_synth/random_snr1 -mp ./models_tracenet_paper/random_snr1 --img-dir img --gt-dir csv --percentiles 1,100  --pretrained-model-path None  --wandb-project Tracenet_Paper_random_snr1 -wapi /home/amedyukh/.wandb_api_key -log   -bs 4 -lr 1e-05 --epochs 5000 --patience 100  --n-points 15  --symmetric   --random-flip   --bezier   --seed 787846414 -wtt 10 -wte 10 -wts 0 -wtst 0  --lim-strt 5 --gamma 0.99 \" \n",
      "\n",
      "bsub -P TraceNet -J Train -q gpu -gpu \"num=1:mode=exclusive_process\"  -R \"rusage[mem=100G]\"  \"export PATH='/research/sharedresources/cbi/public/conda_envs/am_pytorch/bin/:$PATH';  cd /home/amedyukh/codes/trace-net; python train.py -d /research/sharedresources/cbi/data_exchange/hangrp/Development/mt_detection/data_synth/random_snr1 -mp ./models_tracenet_paper/random_snr1 --img-dir img --gt-dir csv --percentiles 1,100  --pretrained-model-path None  --wandb-project Tracenet_Paper_random_snr1 -wapi /home/amedyukh/.wandb_api_key -log   -bs 4 -lr 1e-05 --epochs 5000 --patience 100  --n-points 15  --symmetric   --random-flip   --bezier   --seed 787846414 -wtt 20 -wte 10 -wts 0 -wtst 0  --lim-strt 5 --gamma 0.99 \" \n",
      "\n",
      "bsub -P TraceNet -J Train -q gpu -gpu \"num=1:mode=exclusive_process\"  -R \"rusage[mem=100G]\"  \"export PATH='/research/sharedresources/cbi/public/conda_envs/am_pytorch/bin/:$PATH';  cd /home/amedyukh/codes/trace-net; python train.py -d /research/sharedresources/cbi/data_exchange/hangrp/Development/mt_detection/data_synth/random_snr1 -mp ./models_tracenet_paper/random_snr1 --img-dir img --gt-dir csv --percentiles 1,100  --pretrained-model-path None  --wandb-project Tracenet_Paper_random_snr1 -wapi /home/amedyukh/.wandb_api_key -log   -bs 4 -lr 1e-05 --epochs 5000 --patience 100  --n-points 15  --symmetric   --random-flip   --bezier   --seed 2563451924 -wtt 10 -wte 10 -wts 0 -wtst 0  --lim-strt 5 --gamma 0.99 \" \n",
      "\n",
      "bsub -P TraceNet -J Train -q gpu -gpu \"num=1:mode=exclusive_process\"  -R \"rusage[mem=100G]\"  \"export PATH='/research/sharedresources/cbi/public/conda_envs/am_pytorch/bin/:$PATH';  cd /home/amedyukh/codes/trace-net; python train.py -d /research/sharedresources/cbi/data_exchange/hangrp/Development/mt_detection/data_synth/random_snr1 -mp ./models_tracenet_paper/random_snr1 --img-dir img --gt-dir csv --percentiles 1,100  --pretrained-model-path None  --wandb-project Tracenet_Paper_random_snr1 -wapi /home/amedyukh/.wandb_api_key -log   -bs 4 -lr 1e-05 --epochs 5000 --patience 100  --n-points 15  --symmetric   --random-flip   --bezier   --seed 2563451924 -wtt 20 -wte 10 -wts 0 -wtst 0  --lim-strt 5 --gamma 0.99 \" \n",
      "\n",
      "bsub -P TraceNet -J Train -q gpu -gpu \"num=1:mode=exclusive_process\"  -R \"rusage[mem=100G]\"  \"export PATH='/research/sharedresources/cbi/public/conda_envs/am_pytorch/bin/:$PATH';  cd /home/amedyukh/codes/trace-net; python train.py -d /research/sharedresources/cbi/data_exchange/hangrp/Development/mt_detection/data_synth/random_snr1 -mp ./models_tracenet_paper/random_snr1 --img-dir img --gt-dir csv --percentiles 1,100  --pretrained-model-path None  --wandb-project Tracenet_Paper_random_snr1 -wapi /home/amedyukh/.wandb_api_key -log   -bs 4 -lr 1e-05 --epochs 5000 --patience 100  --n-points 15  --symmetric   --random-flip   --bezier   --seed 9019323606 -wtt 10 -wte 10 -wts 0 -wtst 0  --lim-strt 5 --gamma 0.99 \" \n",
      "\n",
      "bsub -P TraceNet -J Train -q gpu -gpu \"num=1:mode=exclusive_process\"  -R \"rusage[mem=100G]\"  \"export PATH='/research/sharedresources/cbi/public/conda_envs/am_pytorch/bin/:$PATH';  cd /home/amedyukh/codes/trace-net; python train.py -d /research/sharedresources/cbi/data_exchange/hangrp/Development/mt_detection/data_synth/random_snr1 -mp ./models_tracenet_paper/random_snr1 --img-dir img --gt-dir csv --percentiles 1,100  --pretrained-model-path None  --wandb-project Tracenet_Paper_random_snr1 -wapi /home/amedyukh/.wandb_api_key -log   -bs 4 -lr 1e-05 --epochs 5000 --patience 100  --n-points 15  --symmetric   --random-flip   --bezier   --seed 9019323606 -wtt 20 -wte 10 -wts 0 -wtst 0  --lim-strt 5 --gamma 0.99 \" \n",
      "\n"
     ]
    }
   ],
   "source": [
    "for sd in seeds:\n",
    "    for pretr_model in pretrained_model_path:\n",
    "        p1,p2 = percentiles\n",
    "        symm = ' --symmetric ' if symmetric else ''\n",
    "        rfl = ' --random-flip ' if random_flip else ''\n",
    "        bz = ' --bezier ' if bezier else ''\n",
    "        npt = ' --non-pretrained' if pretrained is False else ''\n",
    "\n",
    "        for wtt in weight_trace:\n",
    "            for wte in weight_ends:\n",
    "                for wtst in weight_str:\n",
    "                    for gamma in gammas:\n",
    "\n",
    "                        command = rf'bsub -P TraceNet -J Train -q gpu -gpu \"num=1:mode=exclusive_process\" '\\\n",
    "                                  rf' -R \"rusage[mem=100G]\" '\\\n",
    "                                  rf' \"export PATH=\"\"/research/sharedresources/cbi/public/conda_envs/am_pytorch/bin/:$PATH\"\"; '\\\n",
    "                                  rf' cd /home/amedyukh/codes/trace-net; python train.py'\\\n",
    "                                  rf' -d {data_dir} -mp {model_dir} --img-dir {img_dir} --gt-dir {gt_dir} --percentiles {p1},{p2} '\\\n",
    "                                  rf' --pretrained-model-path {pretr_model} '\\\n",
    "                                  rf' --wandb-project {wandb_project} -wapi {api_key_file} -log  '\\\n",
    "                                  rf' -bs {bs} -lr {lr} --epochs {epochs} --patience {patience} '\\\n",
    "                                  rf' --n-points {n_points} {symm} {rfl} {bz} {npt} --seed {sd}'\\\n",
    "                                  rf' -wtt {wtt} -wte {wte} -wts {weight_spacing} -wtst {wtst} '\\\n",
    "                                  rf' --lim-strt {lim_strt} --gamma {gamma} \"'\n",
    "\n",
    "                        print(command.replace('\"\"', '\\''), '\\n')\n",
    "\n"
   ]
  },
  {
   "cell_type": "code",
   "execution_count": null,
   "id": "bc3ab2c0-add3-4806-bd83-8e5d7ca025de",
   "metadata": {},
   "outputs": [],
   "source": []
  },
  {
   "cell_type": "code",
   "execution_count": null,
   "id": "b1c97609-fc57-4fe7-9d40-727d398db4df",
   "metadata": {},
   "outputs": [],
   "source": []
  }
 ],
 "metadata": {
  "kernelspec": {
   "display_name": "Python [conda env:am_pytorch]",
   "language": "python",
   "name": "conda-env-am_pytorch-py"
  },
  "language_info": {
   "codemirror_mode": {
    "name": "ipython",
    "version": 3
   },
   "file_extension": ".py",
   "mimetype": "text/x-python",
   "name": "python",
   "nbconvert_exporter": "python",
   "pygments_lexer": "ipython3",
   "version": "3.9.7"
  }
 },
 "nbformat": 4,
 "nbformat_minor": 5
}
