{
 "cells": [
  {
   "cell_type": "code",
   "execution_count": 1,
   "id": "95fd9b95-8368-4574-8449-466c35f266df",
   "metadata": {},
   "outputs": [],
   "source": [
    "import os"
   ]
  },
  {
   "cell_type": "code",
   "execution_count": 2,
   "id": "4054e551-04aa-4c65-bda7-0328443ac0dc",
   "metadata": {},
   "outputs": [],
   "source": [
    "# data_dir = '/research/sharedresources/cbi/data_exchange/hangrp/Development/mt_detection/data_synth/lines_2D_400'\n",
    "# img_dir = 'img'\n",
    "# mean_std = (51.23, 31.55)\n",
    "\n",
    "# data_dir = '/research/sharedresources/cbi/data_exchange/hangrp/Development/mt_detection/data/training_data'\n",
    "# img_dir = 'img_synth'\n",
    "# mean_std = (61.66, 36.41)\n",
    "\n",
    "data_dir = '/research/sharedresources/cbi/data_exchange/hangrp/Development/mt_detection/data/training_data'\n",
    "img_dir = 'img'\n",
    "mean_std = (17.18, 15.55)\n",
    "\n",
    "model_dir = './models'\n",
    "api_key_file = '/home/amedyukh/.wandb_api_key'\n",
    "backbones = ['monai_unet']\n",
    "gt_dir = 'csv'\n",
    "instance = [False]\n",
    "n_channels = [\"16,32,64,128\", \"8,16,32,64,128\", \"8,16,32,64,128,512\",\"8,16,32,64,128,512,512\"]\n",
    "\n",
    "epochs = 500\n",
    "patience = 50\n",
    "bs = 8\n",
    "lr = 0.0001"
   ]
  },
  {
   "cell_type": "code",
   "execution_count": 3,
   "id": "3367de77-cafd-4974-bb35-a2d4ce085f9f",
   "metadata": {},
   "outputs": [
    {
     "name": "stdout",
     "output_type": "stream",
     "text": [
      "bsub -P TraceNet -J monai_unet_semi_synth -q gpu -gpu \"num=1:mode=exclusive_process\"  -R \"rusage[mem=20G]\"  \"export PATH='/research/sharedresources/cbi/public/conda_envs/am_pytorch/bin/:$PATH';  cd /home/amedyukh/codes/trace-net; python train.py --backbone monai_unet -d /research/sharedresources/cbi/data_exchange/hangrp/Development/mt_detection/data/training_data -mp ./models -bs 8 -lr 0.0001  --img-dir img_synth --gt-dir csv  --epochs 500 --patience 50 -wapi /home/amedyukh/.wandb_api_key -log   \" \n",
      "\n",
      "bsub -P TraceNet -J monai_unet_semi_synth -q gpu -gpu \"num=1:mode=exclusive_process\"  -R \"rusage[mem=20G]\"  \"export PATH='/research/sharedresources/cbi/public/conda_envs/am_pytorch/bin/:$PATH';  cd /home/amedyukh/codes/trace-net; python train.py --backbone monai_unet -d /research/sharedresources/cbi/data_exchange/hangrp/Development/mt_detection/data/training_data -mp ./models -bs 8 -lr 0.0001  --img-dir img_synth --gt-dir csv  --epochs 500 --patience 50 -wapi /home/amedyukh/.wandb_api_key -log  --instance  \" \n",
      "\n"
     ]
    }
   ],
   "source": [
    "for backbone in backbones:\n",
    "    for nc in n_channels:\n",
    "        for inst in instance:\n",
    "            inst = ' --instance ' if inst else ' '\n",
    "            mean, std = mean_std\n",
    "\n",
    "            command = rf'bsub -P TraceNet -J {backbone} -q gpu -gpu \"num=1:mode=exclusive_process\" '\\\n",
    "                      rf' -R \"rusage[mem=20G]\" '\\\n",
    "                      rf' \"export PATH=\"\"/research/sharedresources/cbi/public/conda_envs/am_pytorch/bin/:$PATH\"\"; '\\\n",
    "                      rf' cd /home/amedyukh/codes/trace-net; python train.py'\\\n",
    "                      rf' --backbone {backbone} -d {data_dir} -mp {model_dir} -bs {bs} -lr {lr} '\\\n",
    "                      rf' --img-dir {img_dir} --gt-dir {gt_dir} --n-channels {nc} --mean-std {mean},{std}'\\\n",
    "                      rf' --epochs {epochs} --patience {patience} -wapi {api_key_file} -log {inst} \"'\n",
    "\n",
    "            print(command.replace('\"\"', '\\''), '\\n')\n",
    "    \n",
    "    "
   ]
  },
  {
   "cell_type": "code",
   "execution_count": null,
   "id": "bc3ab2c0-add3-4806-bd83-8e5d7ca025de",
   "metadata": {},
   "outputs": [],
   "source": []
  }
 ],
 "metadata": {
  "kernelspec": {
   "display_name": "Python [conda env:am_pytorch]",
   "language": "python",
   "name": "conda-env-am_pytorch-py"
  },
  "language_info": {
   "codemirror_mode": {
    "name": "ipython",
    "version": 3
   },
   "file_extension": ".py",
   "mimetype": "text/x-python",
   "name": "python",
   "nbconvert_exporter": "python",
   "pygments_lexer": "ipython3",
   "version": "3.9.7"
  }
 },
 "nbformat": 4,
 "nbformat_minor": 5
}
