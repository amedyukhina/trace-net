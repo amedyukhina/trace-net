{
 "cells": [
  {
   "cell_type": "code",
   "execution_count": 1,
   "id": "95fd9b95-8368-4574-8449-466c35f266df",
   "metadata": {},
   "outputs": [],
   "source": [
    "import os"
   ]
  },
  {
   "cell_type": "code",
   "execution_count": 2,
   "id": "4054e551-04aa-4c65-bda7-0328443ac0dc",
   "metadata": {},
   "outputs": [],
   "source": [
    "path = '/research/sharedresources/cbi/data_exchange/hangrp/Development/mt_detection/data_synth/'\n",
    "data_dirs = [path + 'lines_2D_64', path + 'lines_high_contrast_2D_64']\n",
    "data_names = ['low_contrast', 'high_contrast']\n",
    "maxsizes = [64, 64]\n",
    "model_dir = './models'\n",
    "api_key_file = '/home/amedyukh/.wandb_api_key'\n",
    "models = ['spoco_unet']\n",
    "dataset = 'segmentation'\n",
    "\n",
    "epochs = 5000\n",
    "patience = 50\n",
    "bs = 8\n",
    "lr = 0.0001"
   ]
  },
  {
   "cell_type": "code",
   "execution_count": 3,
   "id": "3367de77-cafd-4974-bb35-a2d4ce085f9f",
   "metadata": {},
   "outputs": [
    {
     "name": "stdout",
     "output_type": "stream",
     "text": [
      "bsub -P TraceNet -J spoco_unet_low_contrast -q gpu -gpu \"num=1:mode=exclusive_process\"  -R \"rusage[mem=20G]\"  \"export PATH='/research/sharedresources/cbi/public/conda_envs/am_pytorch/bin/:$PATH';  cd /home/amedyukh/codes/trace-net; python train.py -m spoco_unet -d /research/sharedresources/cbi/data_exchange/hangrp/Development/mt_detection/data_synth/lines_2D_64 -s 64 -mp ./models -b 8 --lr 0.0001  --epochs 5000 --patience 50 -wapi /home/amedyukh/.wandb_api_key -log  --dsegm  \" \n",
      "\n",
      "bsub -P TraceNet -J spoco_unet_high_contrast -q gpu -gpu \"num=1:mode=exclusive_process\"  -R \"rusage[mem=20G]\"  \"export PATH='/research/sharedresources/cbi/public/conda_envs/am_pytorch/bin/:$PATH';  cd /home/amedyukh/codes/trace-net; python train.py -m spoco_unet -d /research/sharedresources/cbi/data_exchange/hangrp/Development/mt_detection/data_synth/lines_high_contrast_2D_64 -s 64 -mp ./models -b 8 --lr 0.0001  --epochs 5000 --patience 50 -wapi /home/amedyukh/.wandb_api_key -log  --dsegm  \" \n",
      "\n"
     ]
    }
   ],
   "source": [
    "for model in models:\n",
    "    for data_dir, data_name, maxsize in zip(data_dirs, data_names, maxsizes):\n",
    "        ds = ' --dsegm ' if dataset == 'segmentation' else ' '\n",
    "\n",
    "        command = rf'bsub -P TraceNet -J {model}_{data_name} -q gpu -gpu \"num=1:mode=exclusive_process\" '\\\n",
    "                  rf' -R \"rusage[mem=20G]\" '\\\n",
    "                  rf' \"export PATH=\"\"/research/sharedresources/cbi/public/conda_envs/am_pytorch/bin/:$PATH\"\"; '\\\n",
    "                  rf' cd /home/amedyukh/codes/trace-net; python train.py'\\\n",
    "                  rf' -m {model} -d {data_dir} -s {maxsize} -mp {model_dir} -b {bs} --lr {lr} '\\\n",
    "                  rf' --epochs {epochs} --patience {patience} -wapi {api_key_file} -log {ds} \"'\n",
    "\n",
    "        print(command.replace('\"\"', '\\''), '\\n')\n",
    "    \n",
    "    "
   ]
  },
  {
   "cell_type": "code",
   "execution_count": null,
   "id": "bc3ab2c0-add3-4806-bd83-8e5d7ca025de",
   "metadata": {},
   "outputs": [],
   "source": []
  }
 ],
 "metadata": {
  "kernelspec": {
   "display_name": "Python [conda env:am_pytorch]",
   "language": "python",
   "name": "conda-env-am_pytorch-py"
  },
  "language_info": {
   "codemirror_mode": {
    "name": "ipython",
    "version": 3
   },
   "file_extension": ".py",
   "mimetype": "text/x-python",
   "name": "python",
   "nbconvert_exporter": "python",
   "pygments_lexer": "ipython3",
   "version": "3.9.7"
  }
 },
 "nbformat": 4,
 "nbformat_minor": 5
}
