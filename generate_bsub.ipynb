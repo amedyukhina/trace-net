{
 "cells": [
  {
   "cell_type": "code",
   "execution_count": 1,
   "id": "95fd9b95-8368-4574-8449-466c35f266df",
   "metadata": {},
   "outputs": [],
   "source": [
    "import os"
   ]
  },
  {
   "cell_type": "code",
   "execution_count": 2,
   "id": "4054e551-04aa-4c65-bda7-0328443ac0dc",
   "metadata": {},
   "outputs": [],
   "source": [
    "path = '/research/sharedresources/cbi/data_exchange/hangrp/Development/mt_detection/'\n",
    "api_key_file = '/home/amedyukh/.wandb_api_key'\n",
    "\n",
    "seed = 42\n",
    "\n",
    "epochs = 5000\n",
    "patience = 100\n",
    "bs = 4\n",
    "lr = 0.00001\n",
    "bezier = True\n",
    "n_points = 10\n",
    "symmetric = False\n",
    "random_flip = False\n",
    "pretrained = True\n",
    "percentiles = (1, 95)\n",
    "weight_spacing = 0\n",
    "lim_strt = 5"
   ]
  },
  {
   "cell_type": "code",
   "execution_count": 3,
   "id": "9a725915-5f81-4608-a775-f0f29b7bec32",
   "metadata": {},
   "outputs": [],
   "source": [
    "# data_dir = path + 'data_synth/aster_no_spindle'\n",
    "# img_dir = 'img'\n",
    "# gt_dir = 'csv'\n",
    "# model_dir = './models/tracenet_01_synth_no_spindle'\n",
    "# wandb_project = 'Tracenet_Aster_01_synth_no_spindle'\n",
    "# pretrained_model_path = [None]\n",
    "# percentiles = (1, 100)\n",
    "\n",
    "\n",
    "data_dir = path + 'data_synth/aster_with_spindle_high_contrast'\n",
    "img_dir = 'img'\n",
    "gt_dir = 'csv'\n",
    "model_dir = './models/tracenet_02_synth_with_spindle_high_contrast'\n",
    "wandb_project = 'Tracenet_Aster_02_synth_with_spindle_high_contrast'\n",
    "pretrained_model_path = [None]\n",
    "\n",
    "\n",
    "# data_dir = path + 'data_synth/aster_with_spindle_low_contrast'\n",
    "# img_dir = 'img'\n",
    "# gt_dir = 'csv'\n",
    "# model_dir = './models/tracenet_03_synth_with_spindle_low_contrast'\n",
    "# wandb_project = 'Tracenet_Aster_03_synth_with_spindle_low_contrast'\n",
    "# pretrained_model_path = [None, './models/tracenet_01_synth_no_spindle//best_model.pth']\n",
    "\n",
    "\n",
    "# data_dir = path + 'data/training_data'\n",
    "# img_dir = 'img'\n",
    "# gt_dir = 'traces'\n",
    "# model_dir = './models/tracenet_04_real'\n",
    "# wandb_project = 'Tracenet_Aster_04_real'\n",
    "# pretrained_model_path = [None, '']\n",
    "# patience = 1000\n"
   ]
  },
  {
   "cell_type": "code",
   "execution_count": 4,
   "id": "d8ca3478-5877-4b45-bb3b-c33e4eded546",
   "metadata": {},
   "outputs": [],
   "source": [
    "weight_trace = [5]\n",
    "weight_ends = [0, 10]\n",
    "weight_str = [0.0001, 0.001, 0.01]"
   ]
  },
  {
   "cell_type": "code",
   "execution_count": 5,
   "id": "3367de77-cafd-4974-bb35-a2d4ce085f9f",
   "metadata": {},
   "outputs": [
    {
     "name": "stdout",
     "output_type": "stream",
     "text": [
      "bsub -P TraceNet -J Train -q gpu -gpu \"num=1:mode=exclusive_process\"  -R \"rusage[mem=100G]\"  \"export PATH='/research/sharedresources/cbi/public/conda_envs/am_pytorch/bin/:$PATH';  cd /home/amedyukh/codes/trace-net; python train.py -d /research/sharedresources/cbi/data_exchange/hangrp/Development/mt_detection/data_synth/aster_with_spindle_high_contrast -mp ./models/tracenet_02_synth_with_spindle_high_contrast --img-dir img --gt-dir csv --percentiles 1,95  --pretrained-model-path None  --wandb-project Tracenet_Aster_02_synth_with_spindle_high_contrast -wapi /home/amedyukh/.wandb_api_key -log   -bs 4 -lr 1e-05 --epochs 5000 --patience 100  --n-points 10    --bezier   --seed 42 -wtt 5 -wte 0 -wts 0 -wtst 0.0001  --lim-strt 5 \" \n",
      "\n",
      "bsub -P TraceNet -J Train -q gpu -gpu \"num=1:mode=exclusive_process\"  -R \"rusage[mem=100G]\"  \"export PATH='/research/sharedresources/cbi/public/conda_envs/am_pytorch/bin/:$PATH';  cd /home/amedyukh/codes/trace-net; python train.py -d /research/sharedresources/cbi/data_exchange/hangrp/Development/mt_detection/data_synth/aster_with_spindle_high_contrast -mp ./models/tracenet_02_synth_with_spindle_high_contrast --img-dir img --gt-dir csv --percentiles 1,95  --pretrained-model-path None  --wandb-project Tracenet_Aster_02_synth_with_spindle_high_contrast -wapi /home/amedyukh/.wandb_api_key -log   -bs 4 -lr 1e-05 --epochs 5000 --patience 100  --n-points 10    --bezier   --seed 42 -wtt 5 -wte 0 -wts 0 -wtst 0.001  --lim-strt 5 \" \n",
      "\n",
      "bsub -P TraceNet -J Train -q gpu -gpu \"num=1:mode=exclusive_process\"  -R \"rusage[mem=100G]\"  \"export PATH='/research/sharedresources/cbi/public/conda_envs/am_pytorch/bin/:$PATH';  cd /home/amedyukh/codes/trace-net; python train.py -d /research/sharedresources/cbi/data_exchange/hangrp/Development/mt_detection/data_synth/aster_with_spindle_high_contrast -mp ./models/tracenet_02_synth_with_spindle_high_contrast --img-dir img --gt-dir csv --percentiles 1,95  --pretrained-model-path None  --wandb-project Tracenet_Aster_02_synth_with_spindle_high_contrast -wapi /home/amedyukh/.wandb_api_key -log   -bs 4 -lr 1e-05 --epochs 5000 --patience 100  --n-points 10    --bezier   --seed 42 -wtt 5 -wte 0 -wts 0 -wtst 0.01  --lim-strt 5 \" \n",
      "\n",
      "bsub -P TraceNet -J Train -q gpu -gpu \"num=1:mode=exclusive_process\"  -R \"rusage[mem=100G]\"  \"export PATH='/research/sharedresources/cbi/public/conda_envs/am_pytorch/bin/:$PATH';  cd /home/amedyukh/codes/trace-net; python train.py -d /research/sharedresources/cbi/data_exchange/hangrp/Development/mt_detection/data_synth/aster_with_spindle_high_contrast -mp ./models/tracenet_02_synth_with_spindle_high_contrast --img-dir img --gt-dir csv --percentiles 1,95  --pretrained-model-path None  --wandb-project Tracenet_Aster_02_synth_with_spindle_high_contrast -wapi /home/amedyukh/.wandb_api_key -log   -bs 4 -lr 1e-05 --epochs 5000 --patience 100  --n-points 10    --bezier   --seed 42 -wtt 5 -wte 10 -wts 0 -wtst 0.0001  --lim-strt 5 \" \n",
      "\n",
      "bsub -P TraceNet -J Train -q gpu -gpu \"num=1:mode=exclusive_process\"  -R \"rusage[mem=100G]\"  \"export PATH='/research/sharedresources/cbi/public/conda_envs/am_pytorch/bin/:$PATH';  cd /home/amedyukh/codes/trace-net; python train.py -d /research/sharedresources/cbi/data_exchange/hangrp/Development/mt_detection/data_synth/aster_with_spindle_high_contrast -mp ./models/tracenet_02_synth_with_spindle_high_contrast --img-dir img --gt-dir csv --percentiles 1,95  --pretrained-model-path None  --wandb-project Tracenet_Aster_02_synth_with_spindle_high_contrast -wapi /home/amedyukh/.wandb_api_key -log   -bs 4 -lr 1e-05 --epochs 5000 --patience 100  --n-points 10    --bezier   --seed 42 -wtt 5 -wte 10 -wts 0 -wtst 0.001  --lim-strt 5 \" \n",
      "\n",
      "bsub -P TraceNet -J Train -q gpu -gpu \"num=1:mode=exclusive_process\"  -R \"rusage[mem=100G]\"  \"export PATH='/research/sharedresources/cbi/public/conda_envs/am_pytorch/bin/:$PATH';  cd /home/amedyukh/codes/trace-net; python train.py -d /research/sharedresources/cbi/data_exchange/hangrp/Development/mt_detection/data_synth/aster_with_spindle_high_contrast -mp ./models/tracenet_02_synth_with_spindle_high_contrast --img-dir img --gt-dir csv --percentiles 1,95  --pretrained-model-path None  --wandb-project Tracenet_Aster_02_synth_with_spindle_high_contrast -wapi /home/amedyukh/.wandb_api_key -log   -bs 4 -lr 1e-05 --epochs 5000 --patience 100  --n-points 10    --bezier   --seed 42 -wtt 5 -wte 10 -wts 0 -wtst 0.01  --lim-strt 5 \" \n",
      "\n"
     ]
    }
   ],
   "source": [
    "for pretr_model in pretrained_model_path:\n",
    "    p1,p2 = percentiles\n",
    "    symm = ' --symmetric ' if symmetric else ''\n",
    "    rfl = ' --random-flip ' if random_flip else ''\n",
    "    bz = ' --bezier ' if bezier else ''\n",
    "    npt = ' --non-pretrained' if pretrained is False else ''\n",
    "    \n",
    "    for wtt in weight_trace:\n",
    "        for wte in weight_ends:\n",
    "            for wtst in weight_str:\n",
    "\n",
    "                command = rf'bsub -P TraceNet -J Train -q gpu -gpu \"num=1:mode=exclusive_process\" '\\\n",
    "                          rf' -R \"rusage[mem=100G]\" '\\\n",
    "                          rf' \"export PATH=\"\"/research/sharedresources/cbi/public/conda_envs/am_pytorch/bin/:$PATH\"\"; '\\\n",
    "                          rf' cd /home/amedyukh/codes/trace-net; python train.py'\\\n",
    "                          rf' -d {data_dir} -mp {model_dir} --img-dir {img_dir} --gt-dir {gt_dir} --percentiles {p1},{p2} '\\\n",
    "                          rf' --pretrained-model-path {pretr_model} '\\\n",
    "                          rf' --wandb-project {wandb_project} -wapi {api_key_file} -log  '\\\n",
    "                          rf' -bs {bs} -lr {lr} --epochs {epochs} --patience {patience} '\\\n",
    "                          rf' --n-points {n_points} {symm} {rfl} {bz} {npt} --seed {seed}'\\\n",
    "                          rf' -wtt {wtt} -wte {wte} -wts {weight_spacing} -wtst {wtst} '\\\n",
    "                          rf' --lim-strt {lim_strt} \"'\n",
    "\n",
    "                print(command.replace('\"\"', '\\''), '\\n')\n",
    "\n"
   ]
  },
  {
   "cell_type": "code",
   "execution_count": null,
   "id": "bc3ab2c0-add3-4806-bd83-8e5d7ca025de",
   "metadata": {},
   "outputs": [],
   "source": []
  },
  {
   "cell_type": "code",
   "execution_count": null,
   "id": "b1c97609-fc57-4fe7-9d40-727d398db4df",
   "metadata": {},
   "outputs": [],
   "source": []
  }
 ],
 "metadata": {
  "kernelspec": {
   "display_name": "Python [conda env:am_pytorch]",
   "language": "python",
   "name": "conda-env-am_pytorch-py"
  },
  "language_info": {
   "codemirror_mode": {
    "name": "ipython",
    "version": 3
   },
   "file_extension": ".py",
   "mimetype": "text/x-python",
   "name": "python",
   "nbconvert_exporter": "python",
   "pygments_lexer": "ipython3",
   "version": "3.9.7"
  }
 },
 "nbformat": 4,
 "nbformat_minor": 5
}
