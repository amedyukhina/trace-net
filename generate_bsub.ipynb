{
 "cells": [
  {
   "cell_type": "code",
   "execution_count": 1,
   "id": "95fd9b95-8368-4574-8449-466c35f266df",
   "metadata": {},
   "outputs": [],
   "source": [
    "import os"
   ]
  },
  {
   "cell_type": "code",
   "execution_count": 2,
   "id": "4054e551-04aa-4c65-bda7-0328443ac0dc",
   "metadata": {},
   "outputs": [],
   "source": [
    "# data_dir = '/research/sharedresources/cbi/data_exchange/hangrp/Development/mt_detection/data_synth/lines_2D_400'\n",
    "# img_dir = 'img'\n",
    "# mean_std = (51.23, 31.55)\n",
    "\n",
    "data_dir = '/research/sharedresources/cbi/data_exchange/hangrp/Development/mt_detection/data_synth/lines_2D_400_high_contrast'\n",
    "img_dir = 'img'\n",
    "gt_dir = 'csv'\n",
    "mean_std = (21.38, 23.5)\n",
    "\n",
    "# data_dir = '/research/sharedresources/cbi/data_exchange/hangrp/Development/mt_detection/data/training_data'\n",
    "# img_dir = 'img_synth'\n",
    "# mean_std = (61.66, 36.41)\n",
    "# gt_dir = 'csv'\n",
    "\n",
    "# data_dir = '/research/sharedresources/cbi/data_exchange/hangrp/Development/mt_detection/data/training_data'\n",
    "# img_dir = 'img'\n",
    "# gt_dir = 'traces'\n",
    "# mean_std = (595.72, 1159.925)\n",
    "\n",
    "# data_dir = '/research/sharedresources/cbi/data_exchange/hangrp/Development/mt_detection/data/training_data'\n",
    "# img_dir = 'img_synth'\n",
    "# mean_std = (57.3, 32.7)\n",
    "# gt_dir = 'traces'\n",
    "\n",
    "model_dir = './models_tracenet'\n",
    "api_key_file = '/home/amedyukh/.wandb_api_key'\n",
    "# wandb_project = 'Backbone_test_semisynth'\n",
    "wandb_project = 'TraceNet'\n",
    "backbones = ['unetr']\n",
    "instance = [False]\n",
    "tracing = [True]\n",
    "n_channels = [\"8,16,32,64,128,256\"]\n",
    "alphas = [0]\n",
    "pretrained_model_path = './models_backbone_pretrained/skilled-glade-6/best_model.pth'\n",
    "\n",
    "b_line = [True, False]\n",
    "freeze_backbone = [True, False]\n",
    "\n",
    "epochs = 5000\n",
    "patience = 50\n",
    "bs = 8\n",
    "lr = 0.00001\n",
    "dropout=0.2"
   ]
  },
  {
   "cell_type": "code",
   "execution_count": 3,
   "id": "3367de77-cafd-4974-bb35-a2d4ce085f9f",
   "metadata": {},
   "outputs": [
    {
     "name": "stdout",
     "output_type": "stream",
     "text": [
      "bsub -P TraceNet -J unetr -q gpu -gpu \"num=1:mode=exclusive_process\"  -R \"rusage[mem=30G]\"  \"export PATH='/research/sharedresources/cbi/public/conda_envs/am_pytorch/bin/:$PATH';  cd /home/amedyukh/codes/trace-net; python train.py --backbone unetr -d /research/sharedresources/cbi/data_exchange/hangrp/Development/mt_detection/data_synth/lines_2D_400_high_contrast -mp ./models_tracenet -bs 8 -lr 1e-05  --img-dir img --gt-dir csv --n-channels 8,16,32,64,128,256 --mean-std 21.38,23.5 --pretrained-model-path ./models_backbone_pretrained/skilled-glade-6/best_model.pth  --freeze-backbone   --b-line   --wandb-project TraceNet  --tracing  --dropout 0.2 --cldice-alpha 0  --epochs 5000 --patience 50 -wapi /home/amedyukh/.wandb_api_key -log   \" \n",
      "\n",
      "bsub -P TraceNet -J unetr -q gpu -gpu \"num=1:mode=exclusive_process\"  -R \"rusage[mem=30G]\"  \"export PATH='/research/sharedresources/cbi/public/conda_envs/am_pytorch/bin/:$PATH';  cd /home/amedyukh/codes/trace-net; python train.py --backbone unetr -d /research/sharedresources/cbi/data_exchange/hangrp/Development/mt_detection/data_synth/lines_2D_400_high_contrast -mp ./models_tracenet -bs 8 -lr 1e-05  --img-dir img --gt-dir csv --n-channels 8,16,32,64,128,256 --mean-std 21.38,23.5 --pretrained-model-path ./models_backbone_pretrained/skilled-glade-6/best_model.pth    --b-line   --wandb-project TraceNet  --tracing  --dropout 0.2 --cldice-alpha 0  --epochs 5000 --patience 50 -wapi /home/amedyukh/.wandb_api_key -log   \" \n",
      "\n",
      "bsub -P TraceNet -J unetr -q gpu -gpu \"num=1:mode=exclusive_process\"  -R \"rusage[mem=30G]\"  \"export PATH='/research/sharedresources/cbi/public/conda_envs/am_pytorch/bin/:$PATH';  cd /home/amedyukh/codes/trace-net; python train.py --backbone unetr -d /research/sharedresources/cbi/data_exchange/hangrp/Development/mt_detection/data_synth/lines_2D_400_high_contrast -mp ./models_tracenet -bs 8 -lr 1e-05  --img-dir img --gt-dir csv --n-channels 8,16,32,64,128,256 --mean-std 21.38,23.5 --pretrained-model-path ./models_backbone_pretrained/skilled-glade-6/best_model.pth  --freeze-backbone     --wandb-project TraceNet  --tracing  --dropout 0.2 --cldice-alpha 0  --epochs 5000 --patience 50 -wapi /home/amedyukh/.wandb_api_key -log   \" \n",
      "\n",
      "bsub -P TraceNet -J unetr -q gpu -gpu \"num=1:mode=exclusive_process\"  -R \"rusage[mem=30G]\"  \"export PATH='/research/sharedresources/cbi/public/conda_envs/am_pytorch/bin/:$PATH';  cd /home/amedyukh/codes/trace-net; python train.py --backbone unetr -d /research/sharedresources/cbi/data_exchange/hangrp/Development/mt_detection/data_synth/lines_2D_400_high_contrast -mp ./models_tracenet -bs 8 -lr 1e-05  --img-dir img --gt-dir csv --n-channels 8,16,32,64,128,256 --mean-std 21.38,23.5 --pretrained-model-path ./models_backbone_pretrained/skilled-glade-6/best_model.pth      --wandb-project TraceNet  --tracing  --dropout 0.2 --cldice-alpha 0  --epochs 5000 --patience 50 -wapi /home/amedyukh/.wandb_api_key -log   \" \n",
      "\n"
     ]
    }
   ],
   "source": [
    "for backbone in backbones:\n",
    "    for nc in n_channels:\n",
    "        for alpha in alphas:\n",
    "            for trace in tracing:\n",
    "                tr = ' --tracing ' if trace else ' '\n",
    "                for bl in b_line:\n",
    "                    bln = ' --b-line ' if bl else ' '\n",
    "                    for fr_bb in freeze_backbone:\n",
    "                        fr_bbn = ' --freeze-backbone ' if fr_bb else ' '\n",
    "                        for inst in instance:\n",
    "                            inst = ' --instance ' if inst else ' '\n",
    "                            mean, std = mean_std\n",
    "                            \n",
    "                            command = rf'bsub -P TraceNet -J {backbone} -q gpu -gpu \"num=1:mode=exclusive_process\" '\\\n",
    "                                      rf' -R \"rusage[mem=30G]\" '\\\n",
    "                                      rf' \"export PATH=\"\"/research/sharedresources/cbi/public/conda_envs/am_pytorch/bin/:$PATH\"\"; '\\\n",
    "                                      rf' cd /home/amedyukh/codes/trace-net; python train.py'\\\n",
    "                                      rf' --backbone {backbone} -d {data_dir} -mp {model_dir} -bs {bs} -lr {lr} '\\\n",
    "                                      rf' --img-dir {img_dir} --gt-dir {gt_dir} --n-channels {nc} --mean-std {mean},{std}'\\\n",
    "                                      rf' --pretrained-model-path {pretrained_model_path} {fr_bbn} {bln} '\\\n",
    "                                      rf' --wandb-project {wandb_project} {tr} --dropout {dropout} --cldice-alpha {alpha} '\\\n",
    "                                      rf' --epochs {epochs} --patience {patience} -wapi {api_key_file} -log {inst} \"'\n",
    "\n",
    "                            print(command.replace('\"\"', '\\''), '\\n')\n",
    "\n",
    "    "
   ]
  },
  {
   "cell_type": "code",
   "execution_count": null,
   "id": "bc3ab2c0-add3-4806-bd83-8e5d7ca025de",
   "metadata": {},
   "outputs": [],
   "source": []
  },
  {
   "cell_type": "code",
   "execution_count": null,
   "id": "b1c97609-fc57-4fe7-9d40-727d398db4df",
   "metadata": {},
   "outputs": [],
   "source": []
  }
 ],
 "metadata": {
  "kernelspec": {
   "display_name": "Python [conda env:am_pytorch]",
   "language": "python",
   "name": "conda-env-am_pytorch-py"
  },
  "language_info": {
   "codemirror_mode": {
    "name": "ipython",
    "version": 3
   },
   "file_extension": ".py",
   "mimetype": "text/x-python",
   "name": "python",
   "nbconvert_exporter": "python",
   "pygments_lexer": "ipython3",
   "version": "3.9.7"
  }
 },
 "nbformat": 4,
 "nbformat_minor": 5
}
