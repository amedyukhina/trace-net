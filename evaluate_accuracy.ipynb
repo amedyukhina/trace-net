{
 "cells": [
  {
   "cell_type": "markdown",
   "id": "f1770546-8b13-4e19-a575-7df93d1e6bdd",
   "metadata": {},
   "source": [
    "Normalization parameters:\n",
    "\n",
    "for real images: mean: 17.181818181818183 ; std: 15.545454545454545\n",
    "\n",
    "for semi-synthetic: mean: 61.66156689772726 ; std: 36.4139976810122\n",
    "\n",
    "for synthetic lines: mean: 51.227415953125 ; std: 31.554029192471624\n",
    "\n",
    "real images, new annotations: mean: 595.7211111111111 ; std: 1159.925"
   ]
  },
  {
   "cell_type": "code",
   "execution_count": 1,
   "id": "6de741d4-0335-42b3-9e0a-6a6f35a40141",
   "metadata": {},
   "outputs": [],
   "source": [
    "from pathlib import Path\n",
    "\n",
    "import os\n",
    "import pylab as plt\n",
    "from skimage import io\n",
    "import numpy as np\n",
    "import json\n",
    "import pandas as pd\n",
    "import torch\n",
    "import argparse\n",
    "import albumentations as A\n",
    "from tracenet.utils.loader import get_loaders\n",
    "from tracenet.utils.plot import plot_keypoints, plot_traces, show_imgs\n",
    "from tracenet.models.detr import DETR\n",
    "from tracenet.losses.accuracy_metric import Metric"
   ]
  },
  {
   "cell_type": "code",
   "execution_count": 2,
   "id": "15ffd174-e022-4a1a-ab37-5871472e05a3",
   "metadata": {},
   "outputs": [],
   "source": [
    "def show_imgs(imgs, s=4, titles=None):\n",
    "    if titles is None:\n",
    "        titles = [''] * len(imgs)\n",
    "    fig, ax = plt.subplots(1, len(imgs), figsize=(len(imgs) * s, s))\n",
    "    for i, im in enumerate(imgs):\n",
    "        plt.sca(ax[i])\n",
    "        io.imshow(im)\n",
    "        plt.sca(ax[i])\n",
    "        plt.title(titles[i])\n"
   ]
  },
  {
   "cell_type": "code",
   "execution_count": 3,
   "id": "bc431ba8-8ff7-4504-8f2d-76e4557a606e",
   "metadata": {},
   "outputs": [],
   "source": [
    "path = '/research/sharedresources/cbi/data_exchange/hangrp/Development/mt_detection/'\n",
    "\n",
    "\n",
    "data_dir = path + 'data_synth/lines_2D_400_high_contrast'\n",
    "img_dir = 'img'\n",
    "gt_dir = 'csv'\n",
    "mean_std = (21.38, 23.5)\n",
    "model_dir = './models/tracenet_01_lines_2p'\n",
    "\n",
    "\n",
    "# data_dir = path + 'data_synth/lines_2D_400_high_contrast'\n",
    "# img_dir = 'img'\n",
    "# gt_dir = 'csv'\n",
    "# mean_std = (21.38, 23.5)\n",
    "# model_dir = './models/tracenet_02_lines_3p'\n",
    "\n",
    "# data_dir = path + 'data_synth/filaments_2D_high_contrast'\n",
    "# img_dir = 'img'\n",
    "# gt_dir = 'csv'\n",
    "# mean_std = (21.42, 20.46)\n",
    "# model_dir = './models/tracenet_03_filaments_3p'\n",
    "\n",
    "\n",
    "# data_dir = path + 'data_synth/filaments_2D_high_contrast'\n",
    "# img_dir = 'img'\n",
    "# gt_dir = 'csv'\n",
    "# mean_std = (21.42, 20.46)\n",
    "# model_dir = './models/tracenet_04_filaments_5p'\n",
    "\n",
    "\n",
    "# data_dir = path + 'data_synth/filaments_2D_high_contrast'\n",
    "# img_dir = 'img'\n",
    "# gt_dir = 'csv'\n",
    "# mean_std = (21.42, 20.46)\n",
    "# model_dir = './models/tracenet_05_filaments_7p'\n",
    "\n",
    "\n",
    "# data_dir = path + 'data_synth/filament_2D_low_contrast'\n",
    "# img_dir = 'img'\n",
    "# gt_dir = 'csv'\n",
    "# mean_std = (53.9, 32.33)\n",
    "\n",
    "\n",
    "# data_dir = path + 'data/training_data'\n",
    "# img_dir = 'img'\n",
    "# gt_dir = 'traces'\n",
    "# mean_std = (595.72, 1159.925)\n",
    "\n",
    "# data_dir = path + 'data/training_data'\n",
    "# img_dir = 'img_synth'\n",
    "# mean_std = (57.3, 32.7)\n",
    "# gt_dir = 'traces'\n",
    "train_dir = 'train'\n",
    "val_dir = 'val'\n",
    "bs = 2"
   ]
  },
  {
   "cell_type": "markdown",
   "id": "eee190b8-250a-4072-897d-5659f9d756ca",
   "metadata": {
    "tags": []
   },
   "source": [
    "## Prediction"
   ]
  },
  {
   "cell_type": "code",
   "execution_count": 4,
   "id": "5e326308-ef81-43de-aac4-0ae2690207fe",
   "metadata": {},
   "outputs": [
    {
     "data": {
      "text/plain": [
       "['fresh-star-9',\n",
       " 'crisp-resonance-12',\n",
       " 'swept-bird-7',\n",
       " 'playful-meadow-9',\n",
       " 'spring-violet-15',\n",
       " 'driven-moon-16',\n",
       " 'prime-elevator-14',\n",
       " 'misty-moon-8',\n",
       " 'usual-yogurt-13',\n",
       " 'devoted-darkness-11']"
      ]
     },
     "execution_count": 4,
     "metadata": {},
     "output_type": "execute_result"
    }
   ],
   "source": [
    "models = os.listdir(model_dir)\n",
    "models"
   ]
  },
  {
   "cell_type": "code",
   "execution_count": null,
   "id": "65d2e777-3759-4743-9701-2eef3622ab7d",
   "metadata": {
    "scrolled": true,
    "tags": []
   },
   "outputs": [],
   "source": [
    "outputs = []\n",
    "imgs_gt = []\n",
    "metrics = []\n",
    "for model in models:\n",
    "    output = []\n",
    "    gt = []\n",
    "    model_path = rf'{model_dir}/{model}/best_model.pth'\n",
    "\n",
    "    # load the model\n",
    "    with open(os.path.join(os.path.dirname(model_path), 'config.json')) as f:\n",
    "        config = json.load(f)\n",
    "        \n",
    "    n_points=config['n_points']\n",
    "    net = DETR(n_points=n_points, n_classes=1).cuda()\n",
    "    net.load_state_dict(torch.load(model_path))\n",
    "    net.eval();\n",
    "    train_dl, val_dl = get_loaders(data_dir, train_dir=train_dir, val_dir=val_dir, \n",
    "                               img_dir=img_dir, gt_dir=gt_dir, batch_size=1, \n",
    "                               mean_std=mean_std, shuffle=False, n_points=config['n_points'])\n",
    "    metric = Metric()\n",
    "    \n",
    "    # predict\n",
    "    for i, (imgs, _, targets) in enumerate(val_dl):\n",
    "        gt.append(plot_traces(imgs[0][0], targets['trace'][0], return_image=True, n_points=config['n_points']))\n",
    "        with torch.no_grad():\n",
    "            out = net(imgs.cuda())\n",
    "            for key in ['trace', 'trace_class']:\n",
    "                targets[key] = [t.cuda() for t in targets[key]]\n",
    "            metric(out, targets)\n",
    "            probas = out['pred_logits'].softmax(-1)[0, :, 1:].cpu()\n",
    "            keep = probas.max(-1).values > 0.7\n",
    "            output.append(plot_traces(imgs[0][0], out['pred_traces'][0, keep].cpu(), \n",
    "                                      return_image=True, n_points=config['n_points']))\n",
    "    outputs.append(output)\n",
    "    imgs_gt.append(gt)\n",
    "    metric.aggregate()\n",
    "    metrics.append(metric)"
   ]
  },
  {
   "cell_type": "code",
   "execution_count": 6,
   "id": "85e817bf-0f09-483c-a300-959a16abd2e2",
   "metadata": {},
   "outputs": [
    {
     "data": {
      "text/plain": [
       "2"
      ]
     },
     "execution_count": 6,
     "metadata": {},
     "output_type": "execute_result"
    }
   ],
   "source": [
    "config['n_points']"
   ]
  },
  {
   "cell_type": "code",
   "execution_count": 7,
   "id": "f180fa54-f01b-48aa-99a6-72973a202fbd",
   "metadata": {},
   "outputs": [],
   "source": [
    "df = pd.DataFrame()\n",
    "for metric, model in zip(metrics, models):\n",
    "    metric.mean['model'] = model\n",
    "    df = pd.concat([df, pd.Series(metric.mean).to_frame().transpose()], ignore_index=True)"
   ]
  },
  {
   "cell_type": "code",
   "execution_count": 8,
   "id": "1781f54a-fd96-4977-a17a-5e039ba10931",
   "metadata": {},
   "outputs": [
    {
     "data": {
      "text/html": [
       "<div>\n",
       "<style scoped>\n",
       "    .dataframe tbody tr th:only-of-type {\n",
       "        vertical-align: middle;\n",
       "    }\n",
       "\n",
       "    .dataframe tbody tr th {\n",
       "        vertical-align: top;\n",
       "    }\n",
       "\n",
       "    .dataframe thead th {\n",
       "        text-align: right;\n",
       "    }\n",
       "</style>\n",
       "<table border=\"1\" class=\"dataframe\">\n",
       "  <thead>\n",
       "    <tr style=\"text-align: right;\">\n",
       "      <th></th>\n",
       "      <th>cardinality error</th>\n",
       "      <th>relative cardinality error</th>\n",
       "      <th>Precision</th>\n",
       "      <th>Recall</th>\n",
       "      <th>F1 Score</th>\n",
       "      <th>end distance</th>\n",
       "      <th>model</th>\n",
       "    </tr>\n",
       "  </thead>\n",
       "  <tbody>\n",
       "    <tr>\n",
       "      <th>0</th>\n",
       "      <td>1.066667</td>\n",
       "      <td>0.09338</td>\n",
       "      <td>0.925576</td>\n",
       "      <td>0.993888</td>\n",
       "      <td>0.9561</td>\n",
       "      <td>0.03849</td>\n",
       "      <td>fresh-star-9</td>\n",
       "    </tr>\n",
       "    <tr>\n",
       "      <th>1</th>\n",
       "      <td>0.78</td>\n",
       "      <td>0.069322</td>\n",
       "      <td>0.939362</td>\n",
       "      <td>0.992508</td>\n",
       "      <td>0.963479</td>\n",
       "      <td>0.01904</td>\n",
       "      <td>crisp-resonance-12</td>\n",
       "    </tr>\n",
       "    <tr>\n",
       "      <th>2</th>\n",
       "      <td>0.64</td>\n",
       "      <td>0.055392</td>\n",
       "      <td>0.956722</td>\n",
       "      <td>0.989405</td>\n",
       "      <td>0.970834</td>\n",
       "      <td>0.015154</td>\n",
       "      <td>swept-bird-7</td>\n",
       "    </tr>\n",
       "    <tr>\n",
       "      <th>3</th>\n",
       "      <td>0.853333</td>\n",
       "      <td>0.072986</td>\n",
       "      <td>0.936584</td>\n",
       "      <td>0.996578</td>\n",
       "      <td>0.964042</td>\n",
       "      <td>0.022843</td>\n",
       "      <td>playful-meadow-9</td>\n",
       "    </tr>\n",
       "    <tr>\n",
       "      <th>4</th>\n",
       "      <td>6.08</td>\n",
       "      <td>0.974448</td>\n",
       "      <td>0.571291</td>\n",
       "      <td>0.994851</td>\n",
       "      <td>0.70745</td>\n",
       "      <td>0.089473</td>\n",
       "      <td>spring-violet-15</td>\n",
       "    </tr>\n",
       "    <tr>\n",
       "      <th>5</th>\n",
       "      <td>6.58</td>\n",
       "      <td>0.973005</td>\n",
       "      <td>0.555121</td>\n",
       "      <td>0.994157</td>\n",
       "      <td>0.697876</td>\n",
       "      <td>0.136416</td>\n",
       "      <td>driven-moon-16</td>\n",
       "    </tr>\n",
       "    <tr>\n",
       "      <th>6</th>\n",
       "      <td>3.4</td>\n",
       "      <td>0.458805</td>\n",
       "      <td>0.72704</td>\n",
       "      <td>0.98416</td>\n",
       "      <td>0.823335</td>\n",
       "      <td>0.109459</td>\n",
       "      <td>prime-elevator-14</td>\n",
       "    </tr>\n",
       "    <tr>\n",
       "      <th>7</th>\n",
       "      <td>0.786667</td>\n",
       "      <td>0.066228</td>\n",
       "      <td>0.948239</td>\n",
       "      <td>0.993503</td>\n",
       "      <td>0.968535</td>\n",
       "      <td>0.01679</td>\n",
       "      <td>misty-moon-8</td>\n",
       "    </tr>\n",
       "    <tr>\n",
       "      <th>8</th>\n",
       "      <td>2.28</td>\n",
       "      <td>0.346946</td>\n",
       "      <td>0.786052</td>\n",
       "      <td>0.982665</td>\n",
       "      <td>0.861059</td>\n",
       "      <td>0.194221</td>\n",
       "      <td>usual-yogurt-13</td>\n",
       "    </tr>\n",
       "    <tr>\n",
       "      <th>9</th>\n",
       "      <td>0.88</td>\n",
       "      <td>0.068098</td>\n",
       "      <td>0.943109</td>\n",
       "      <td>0.996166</td>\n",
       "      <td>0.967252</td>\n",
       "      <td>0.016974</td>\n",
       "      <td>devoted-darkness-11</td>\n",
       "    </tr>\n",
       "  </tbody>\n",
       "</table>\n",
       "</div>"
      ],
      "text/plain": [
       "  cardinality error relative cardinality error Precision    Recall  F1 Score  \\\n",
       "0          1.066667                    0.09338  0.925576  0.993888    0.9561   \n",
       "1              0.78                   0.069322  0.939362  0.992508  0.963479   \n",
       "2              0.64                   0.055392  0.956722  0.989405  0.970834   \n",
       "3          0.853333                   0.072986  0.936584  0.996578  0.964042   \n",
       "4              6.08                   0.974448  0.571291  0.994851   0.70745   \n",
       "5              6.58                   0.973005  0.555121  0.994157  0.697876   \n",
       "6               3.4                   0.458805   0.72704   0.98416  0.823335   \n",
       "7          0.786667                   0.066228  0.948239  0.993503  0.968535   \n",
       "8              2.28                   0.346946  0.786052  0.982665  0.861059   \n",
       "9              0.88                   0.068098  0.943109  0.996166  0.967252   \n",
       "\n",
       "  end distance                model  \n",
       "0      0.03849         fresh-star-9  \n",
       "1      0.01904   crisp-resonance-12  \n",
       "2     0.015154         swept-bird-7  \n",
       "3     0.022843     playful-meadow-9  \n",
       "4     0.089473     spring-violet-15  \n",
       "5     0.136416       driven-moon-16  \n",
       "6     0.109459    prime-elevator-14  \n",
       "7      0.01679         misty-moon-8  \n",
       "8     0.194221      usual-yogurt-13  \n",
       "9     0.016974  devoted-darkness-11  "
      ]
     },
     "execution_count": 8,
     "metadata": {},
     "output_type": "execute_result"
    }
   ],
   "source": [
    "df"
   ]
  },
  {
   "cell_type": "code",
   "execution_count": 9,
   "id": "ac787910-de1a-4dad-875b-d461802c3990",
   "metadata": {},
   "outputs": [],
   "source": [
    "ind = 2"
   ]
  },
  {
   "cell_type": "code",
   "execution_count": 10,
   "id": "c119d997-7a00-4663-81f3-7c5e95868805",
   "metadata": {},
   "outputs": [
    {
     "data": {
      "text/plain": [
       "150"
      ]
     },
     "execution_count": 10,
     "metadata": {},
     "output_type": "execute_result"
    }
   ],
   "source": [
    "len(metrics[ind].buffer['cardinality error'])"
   ]
  },
  {
   "cell_type": "code",
   "execution_count": 11,
   "id": "3ca07966-940c-4a9d-b147-f98fb296da9a",
   "metadata": {},
   "outputs": [
    {
     "data": {
      "text/plain": [
       "tensor(62, device='cuda:0')"
      ]
     },
     "execution_count": 11,
     "metadata": {},
     "output_type": "execute_result"
    }
   ],
   "source": [
    "sum(metrics[ind].buffer['cardinality error'] > 0)"
   ]
  },
  {
   "cell_type": "code",
   "execution_count": 12,
   "id": "b5220797-0b04-45c6-b5fb-46db9d31ed0b",
   "metadata": {},
   "outputs": [
    {
     "data": {
      "text/plain": [
       "tensor(35, device='cuda:0')"
      ]
     },
     "execution_count": 12,
     "metadata": {},
     "output_type": "execute_result"
    }
   ],
   "source": [
    "sum(metrics[ind].buffer['relative cardinality error'] > 0.1)"
   ]
  },
  {
   "cell_type": "code",
   "execution_count": 13,
   "id": "c1b9d139-493e-4f05-9919-a8ea3c32bc51",
   "metadata": {},
   "outputs": [
    {
     "data": {
      "text/plain": [
       "tensor(81)"
      ]
     },
     "execution_count": 13,
     "metadata": {},
     "output_type": "execute_result"
    }
   ],
   "source": [
    "sum(metrics[ind].buffer['end distance'] > 5 / 512)"
   ]
  },
  {
   "cell_type": "code",
   "execution_count": null,
   "id": "b2484fd5-851f-44a8-bda5-793a3290b4dc",
   "metadata": {},
   "outputs": [],
   "source": [
    "# plot predictions\n",
    "for i, (imgs, _, _) in enumerate(val_dl):\n",
    "    if metrics[ind].buffer['relative cardinality error'][i] > 0.1:\n",
    "        img_in = imgs[0][0].numpy()\n",
    "        img_in = img_in - np.min(img_in)\n",
    "        img_in = img_in / np.max(img_in)\n",
    "        per = np.percentile(img_in, 100)\n",
    "        img_in = np.clip(img_in, 0, per)\n",
    "        prediction = outputs[ind][i]\n",
    "        show_imgs([img_in, imgs_gt[0][i], prediction], s=10, \n",
    "                  titles=['input', 'ground_truth', models[ind]])"
   ]
  },
  {
   "cell_type": "code",
   "execution_count": null,
   "id": "b1dd3ae2-4202-4e73-a8a7-a9649eec4e03",
   "metadata": {},
   "outputs": [],
   "source": []
  }
 ],
 "metadata": {
  "kernelspec": {
   "display_name": "Python [conda env:am_pytorch]",
   "language": "python",
   "name": "conda-env-am_pytorch-py"
  },
  "language_info": {
   "codemirror_mode": {
    "name": "ipython",
    "version": 3
   },
   "file_extension": ".py",
   "mimetype": "text/x-python",
   "name": "python",
   "nbconvert_exporter": "python",
   "pygments_lexer": "ipython3",
   "version": "3.9.7"
  }
 },
 "nbformat": 4,
 "nbformat_minor": 5
}
