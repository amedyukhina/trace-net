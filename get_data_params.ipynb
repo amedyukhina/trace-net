{
 "cells": [
  {
   "cell_type": "code",
   "execution_count": 1,
   "id": "c3a9ba80-faf5-4458-999e-56e6d6493d24",
   "metadata": {},
   "outputs": [],
   "source": [
    "from pathlib import Path\n",
    "import os\n",
    "from skimage import io\n",
    "import numpy as np"
   ]
  },
  {
   "cell_type": "code",
   "execution_count": 2,
   "id": "f854a72b-0c30-49f2-857f-99026d805c22",
   "metadata": {},
   "outputs": [],
   "source": [
    "paths = ['/research/sharedresources/cbi/data_exchange/hangrp/Development/mt_detection/data/raw_cropped/img']\n",
    "mean_fn = lambda x: np.percentile(img.ravel(), 30)\n",
    "std_fn = lambda x: np.percentile(img.ravel(), 75) - np.percentile(img.ravel(), 25)"
   ]
  },
  {
   "cell_type": "code",
   "execution_count": 3,
   "id": "05e2a0da-bdef-41cc-b4da-9c0bab17f6ce",
   "metadata": {},
   "outputs": [],
   "source": [
    "maxsize = 0\n",
    "means = []\n",
    "stds = []\n",
    "for path in paths:\n",
    "    files = os.listdir(path)\n",
    "    for fn in files:\n",
    "        if fn.endswith('.tif'):\n",
    "            img = io.imread(Path(str(path)) / fn)\n",
    "            maxsize = max(maxsize, np.max(img.shape))\n",
    "            means.append(mean_fn(img))\n",
    "            stds.append(std_fn(img))"
   ]
  },
  {
   "cell_type": "code",
   "execution_count": 4,
   "id": "a1d2376f-abcd-4c80-855b-b21a9bb00d30",
   "metadata": {},
   "outputs": [
    {
     "name": "stdout",
     "output_type": "stream",
     "text": [
      "maxsize: 331\n"
     ]
    }
   ],
   "source": [
    "print('maxsize:', maxsize)"
   ]
  },
  {
   "cell_type": "code",
   "execution_count": 5,
   "id": "4c735a4f-79de-4f4d-8a98-d6d9794265e7",
   "metadata": {},
   "outputs": [
    {
     "name": "stdout",
     "output_type": "stream",
     "text": [
      "mean: 17.181818181818183 ; std: 15.545454545454545\n"
     ]
    }
   ],
   "source": [
    "print('mean:', np.mean(means), '; std:', np.mean(stds))"
   ]
  },
  {
   "cell_type": "code",
   "execution_count": null,
   "id": "de9a77f7-ecfa-4fdd-9445-2c94a27d6773",
   "metadata": {},
   "outputs": [],
   "source": []
  }
 ],
 "metadata": {
  "kernelspec": {
   "display_name": "Python [conda env:am_pytorch]",
   "language": "python",
   "name": "conda-env-am_pytorch-py"
  },
  "language_info": {
   "codemirror_mode": {
    "name": "ipython",
    "version": 3
   },
   "file_extension": ".py",
   "mimetype": "text/x-python",
   "name": "python",
   "nbconvert_exporter": "python",
   "pygments_lexer": "ipython3",
   "version": "3.9.7"
  }
 },
 "nbformat": 4,
 "nbformat_minor": 5
}
