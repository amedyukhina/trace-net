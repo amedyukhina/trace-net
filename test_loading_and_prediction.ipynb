{
 "cells": [
  {
   "cell_type": "code",
   "execution_count": 1,
   "id": "6de741d4-0335-42b3-9e0a-6a6f35a40141",
   "metadata": {},
   "outputs": [],
   "source": [
    "from pathlib import Path\n",
    "\n",
    "import os\n",
    "import pylab as plt\n",
    "from skimage import io\n",
    "import numpy as np\n",
    "import json\n",
    "import torch\n",
    "import argparse\n",
    "import albumentations as A\n",
    "from tracenet.utils.loader import get_loaders\n",
    "from tracenet.utils.plot import plot_keypoints, plot_traces, show_imgs"
   ]
  },
  {
   "cell_type": "code",
   "execution_count": 2,
   "id": "bc431ba8-8ff7-4504-8f2d-76e4557a606e",
   "metadata": {},
   "outputs": [],
   "source": [
    "path = '/research/sharedresources/cbi/data_exchange/hangrp/Development/mt_detection/'\n",
    "percentiles = (1, 95)\n",
    "\n",
    "\n",
    "# data_dir = path + 'data_synth/aster_with_spindle_high_contrast'\n",
    "# img_dir = 'img'\n",
    "# gt_dir = 'csv'\n",
    "\n",
    "data_dir = '/research/sharedresources/cbi/data_exchange/hangrp/Development/mt_detection/data/training_data'\n",
    "img_dir = 'img'\n",
    "gt_dir = 'traces'\n",
    "\n",
    "train_dir = 'train'\n",
    "val_dir = 'val'\n",
    "bs = 2"
   ]
  },
  {
   "cell_type": "code",
   "execution_count": 3,
   "id": "41c84f55-06c5-48bc-ac49-211038d8d370",
   "metadata": {},
   "outputs": [],
   "source": [
    "# from tracenet.datasets.custom_transforms import GaussianNoise, GaussianBlur\n",
    "# from torchvision import transforms\n",
    "\n",
    "# tr = transforms.Compose([\n",
    "#         # GaussianBlur([1.5, 2], 1),\n",
    "#         GaussianNoise([0.01, 0.05], 0.5),\n",
    "#         # RandomBrightnessContrast(brightness=(-0.1, 0.1), contrast=(0.8, 1.2), probability=0.5),\n",
    "#     ])"
   ]
  },
  {
   "cell_type": "code",
   "execution_count": 4,
   "id": "f94f4997-5406-4dc0-990c-f17a3901e5c4",
   "metadata": {},
   "outputs": [],
   "source": [
    "train_dl, val_dl = get_loaders(data_dir, train_dir=train_dir, val_dir=val_dir, \n",
    "                               img_dir=img_dir, gt_dir=gt_dir, batch_size=1, \n",
    "                               # intensity_transform=tr,\n",
    "                               percentiles=percentiles, shuffle=False, n_points=15)"
   ]
  },
  {
   "cell_type": "code",
   "execution_count": null,
   "id": "62d31d14-7cb0-4728-a276-4458c8a3093b",
   "metadata": {},
   "outputs": [],
   "source": [
    "ind = 1"
   ]
  },
  {
   "cell_type": "code",
   "execution_count": null,
   "id": "1eb46387-ffd7-4eb6-86c2-c574a0e7d401",
   "metadata": {},
   "outputs": [],
   "source": [
    "arr = []\n",
    "for i in range(25):\n",
    "    imgs1, imgs2, targets = next(iter(train_dl))\n",
    "    arr.append(imgs1[ind][0].numpy())"
   ]
  },
  {
   "cell_type": "code",
   "execution_count": null,
   "id": "21b7ca0b-c0d1-41f5-8956-aea086090450",
   "metadata": {},
   "outputs": [],
   "source": [
    "fig, axes = plt.subplots(5, 5, figsize=(50,50))\n",
    "for ax, x in zip(axes.ravel(), arr):\n",
    "    ax.imshow(x)"
   ]
  },
  {
   "cell_type": "code",
   "execution_count": null,
   "id": "0d1394e1-62e5-43c2-909c-cb84f2082858",
   "metadata": {},
   "outputs": [],
   "source": [
    "show_imgs([imgs1[ind][0], targets['labeled_mask'][ind]], s=7, norm=True)"
   ]
  },
  {
   "cell_type": "code",
   "execution_count": null,
   "id": "d38590a4-2e1a-4bad-bb8b-f60a07488967",
   "metadata": {},
   "outputs": [],
   "source": [
    "img_gt = plot_keypoints(imgs1[ind][0], targets['keypoints'][ind], targets['point_labels'][ind], return_image=True)"
   ]
  },
  {
   "cell_type": "code",
   "execution_count": null,
   "id": "e564279a-2c01-4d15-8772-29942b1c0e0f",
   "metadata": {},
   "outputs": [],
   "source": [
    "img_gt = plot_traces(imgs1[ind][0], targets['trace'][ind], n_points=7, return_image=True)"
   ]
  },
  {
   "cell_type": "code",
   "execution_count": null,
   "id": "99e4f7b5-f46c-4e46-862e-d33347e33e6d",
   "metadata": {},
   "outputs": [],
   "source": []
  },
  {
   "cell_type": "code",
   "execution_count": null,
   "id": "93092852-cd33-48c1-a16f-1c47e46e5e0c",
   "metadata": {},
   "outputs": [],
   "source": []
  }
 ],
 "metadata": {
  "kernelspec": {
   "display_name": "Python [conda env:am_pytorch]",
   "language": "python",
   "name": "conda-env-am_pytorch-py"
  },
  "language_info": {
   "codemirror_mode": {
    "name": "ipython",
    "version": 3
   },
   "file_extension": ".py",
   "mimetype": "text/x-python",
   "name": "python",
   "nbconvert_exporter": "python",
   "pygments_lexer": "ipython3",
   "version": "3.9.7"
  }
 },
 "nbformat": 4,
 "nbformat_minor": 5
}
