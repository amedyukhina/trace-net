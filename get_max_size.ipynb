{
 "cells": [
  {
   "cell_type": "code",
   "execution_count": 3,
   "id": "c3a9ba80-faf5-4458-999e-56e6d6493d24",
   "metadata": {},
   "outputs": [],
   "source": [
    "from pathlib import Path\n",
    "import os\n",
    "from skimage import io\n",
    "import numpy as np"
   ]
  },
  {
   "cell_type": "code",
   "execution_count": 4,
   "id": "70d0a339-c6f6-4333-9e99-b1dec96808a9",
   "metadata": {},
   "outputs": [],
   "source": [
    "paths = [Path('mtdata/train/img'), Path('mtdata/val/img')]"
   ]
  },
  {
   "cell_type": "code",
   "execution_count": 5,
   "id": "05e2a0da-bdef-41cc-b4da-9c0bab17f6ce",
   "metadata": {},
   "outputs": [
    {
     "data": {
      "text/plain": [
       "627"
      ]
     },
     "execution_count": 5,
     "metadata": {},
     "output_type": "execute_result"
    }
   ],
   "source": [
    "maxsize = 0\n",
    "for path in paths:\n",
    "    files = os.listdir(path)\n",
    "    for fn in files:\n",
    "        img = io.imread(path / fn)\n",
    "        maxsize = max(maxsize, np.max(img.shape))\n",
    "maxsize"
   ]
  },
  {
   "cell_type": "code",
   "execution_count": null,
   "id": "ec07c73f-07d5-4e12-9fe4-ee11a6d08ad5",
   "metadata": {},
   "outputs": [],
   "source": []
  }
 ],
 "metadata": {
  "kernelspec": {
   "display_name": "Python [conda env:am_pytorch]",
   "language": "python",
   "name": "conda-env-am_pytorch-py"
  },
  "language_info": {
   "codemirror_mode": {
    "name": "ipython",
    "version": 3
   },
   "file_extension": ".py",
   "mimetype": "text/x-python",
   "name": "python",
   "nbconvert_exporter": "python",
   "pygments_lexer": "ipython3",
   "version": "3.9.7"
  }
 },
 "nbformat": 4,
 "nbformat_minor": 5
}
